{
 "cells": [
  {
   "cell_type": "markdown",
   "metadata": {},
   "source": [
    "<h1 style=\"font-family: Georgia; font-size:3em;color:#2462C0; font-style:bold\">\n",
    "Character-Level Language Model</h1><br>"
   ]
  },
  {
   "cell_type": "markdown",
   "metadata": {},
   "source": [
    "Character-level language model's task is to predict next character given all previous characters in a sequence of data.\n",
    "RNN model family are very powerful and expressive in which they remember and process past information through their high dimensional hidden state units.\n",
    "Generates names character by character.\n",
    "Statistical language models try to capture the statistical structure of training text it's trained on. They play a crucial part in NLP tasks such as machine translation and speech recognition. The main goal of any language model is to learn the joint probability distribution of sequences of characters/words in a training text."
   ]
  },
  {
   "cell_type": "markdown",
   "metadata": {},
   "source": [
    "More formally, given a training sequence (x1, . . . , xT ), the RNN uses\n",
    "the sequence of its output vectors (o1, . . . , oT ) to obtain\n",
    "a sequence of predictive distributions P(xt+1|x≤t) =\n",
    "softmax(ot), where the softmax distribution is defined by\n",
    "P(softmax(ot) = j) = exp(o(j)t)/Pkexp(o(k)t)."
   ]
  },
  {
   "cell_type": "markdown",
   "metadata": {},
   "source": [
    "Let's illustrate how the character-level language model works using my first name (\"imad\") as an example. We first build a vocabulary dictionary using all the unique letters (since we're assuming all names consist of english letters only) of the names in the corpus as keys and the index of each letter starting from zero (since python is a zero index language) in ascending order. For our example, the vocabulary dictionary would be: {\"a\": 0, \"d\": 1, \"i\": 2, \"m\": 3}. Therefore, \"imad\" would become a list of the following integers: [2, 3, 0, 1].\n",
    "\n",
    "Second, first letter is always zero vector, i.e. $x^1 = \\vec{0}$"
   ]
  },
  {
   "cell_type": "markdown",
   "metadata": {},
   "source": [
    "<p align=\"left\">\n",
    "<img src=\"posts_images/char_level_model/char_level_example.PNG\"; style=\"width: 800px; height: 600px\"><br>\n",
    "<caption><center><u><font color=\"purple\">**Figure 1:**</font></u> Illustrative example of character-level language model using RNN</center></caption>\n",
    "</p>"
   ]
  },
  {
   "cell_type": "code",
   "execution_count": 1,
   "metadata": {
    "code_folding": [
     0
    ]
   },
   "outputs": [],
   "source": [
    "# Load packages\n",
    "import matplotlib.pyplot as plt\n",
    "import numpy as np\n",
    "import pandas as pd\n",
    "import seaborn as sns\n",
    "\n",
    "%matplotlib inline\n",
    "sns.set_context(\"notebook\")\n",
    "plt.style.use(\"fivethirtyeight\")"
   ]
  },
  {
   "cell_type": "code",
   "execution_count": 4,
   "metadata": {
    "code_folding": [
     0
    ]
   },
   "outputs": [],
   "source": [
    "def clip_gradients(gradients, max_value):\n",
    "    \"\"\"\n",
    "    Implements gradient clipping element-wise on gradients values\n",
    "    to be between the interval [-max_value, max_value].\n",
    "\n",
    "    Arguments\n",
    "    ----------\n",
    "    gradients : python dict\n",
    "        dictionary that stores all the gradients.\n",
    "    max_value : scalar\n",
    "        edge of the interval [-max_value, max_value].\n",
    "\n",
    "    Returns\n",
    "    -------\n",
    "    gradients : python dict\n",
    "        dictionary where all gradients were clipped.\n",
    "    \"\"\"\n",
    "    for grad in gradients.keys():\n",
    "        np.clip(gradients[grad], -max_value, max_value, out=gradients[grad])\n",
    "\n",
    "    return gradients"
   ]
  },
  {
   "cell_type": "code",
   "execution_count": 5,
   "metadata": {
    "code_folding": [
     0
    ],
    "collapsed": true
   },
   "outputs": [
    {
     "name": "stdout",
     "output_type": "stream",
     "text": [
      "gradients[\"dWaa\"][1][2] = 10.0\n",
      "gradients[\"dWax\"][3][1] = -10.0\n",
      "gradients[\"dWya\"][1][2] = 0.2971381536101662\n",
      "gradients[\"db\"][4] = [10.]\n",
      "gradients[\"dby\"][1] = [8.45833407]\n"
     ]
    }
   ],
   "source": [
    "# Test clip_gradients function\n",
    "np.random.seed(3)\n",
    "dWax = np.random.randn(5,3)*10\n",
    "dWaa = np.random.randn(5,5)*10\n",
    "dWya = np.random.randn(2,5)*10\n",
    "db = np.random.randn(5,1)*10\n",
    "dby = np.random.randn(2,1)*10\n",
    "gradients = {\"dWax\": dWax, \"dWaa\": dWaa, \"dWya\": dWya, \"db\": db, \"dby\": dby}\n",
    "gradients = clip_gradients(gradients, 10)\n",
    "print(\"gradients[\\\"dWaa\\\"][1][2] =\", gradients[\"dWaa\"][1][2])\n",
    "print(\"gradients[\\\"dWax\\\"][3][1] =\", gradients[\"dWax\"][3][1])\n",
    "print(\"gradients[\\\"dWya\\\"][1][2] =\", gradients[\"dWya\"][1][2])\n",
    "print(\"gradients[\\\"db\\\"][4] =\", gradients[\"db\"][4])\n",
    "print(\"gradients[\\\"dby\\\"][1] =\", gradients[\"dby\"][1])"
   ]
  },
  {
   "cell_type": "code",
   "execution_count": 6,
   "metadata": {
    "code_folding": [
     0
    ]
   },
   "outputs": [],
   "source": [
    "def softmax(z):\n",
    "    \"\"\"Implements softmax on the array z and returns normalized probability.\n",
    "    \n",
    "    Arguments\n",
    "    ---------\n",
    "    z : array-like\n",
    "        array contains logits.\n",
    "        \n",
    "    Returns\n",
    "    -------\n",
    "    probs : array\n",
    "        array containg the probability of each element from the logits array.\n",
    "    \n",
    "    \"\"\"\n",
    "    e_z = np.exp(z)\n",
    "    probs = e_z / np.sum(e_z)\n",
    "    \n",
    "    return probs"
   ]
  },
  {
   "cell_type": "code",
   "execution_count": 66,
   "metadata": {
    "code_folding": [
     0
    ]
   },
   "outputs": [],
   "source": [
    "def sample(parameters, idx_to_chars, chars_to_idx, n):\n",
    "    \"\"\"\n",
    "    Implements sampling of a squence of characters until reach\n",
    "    EOS (which is new line) or n characters length. The sampling\n",
    "    will be based on the probability distribution output of RNN.\n",
    "\n",
    "    Arguments\n",
    "    ---------\n",
    "    parameters : python dict\n",
    "        dictionary storing all the parameters of the model.\n",
    "    idx_to_chars : python dict\n",
    "        dictionary mapping indices to characters.\n",
    "    chars_to_idx : python dict\n",
    "        dictionary mapping characters to indices.\n",
    "    n : scalar\n",
    "        max number of characters to output if RNN didn't output EOS.\n",
    "\n",
    "    Returns\n",
    "    -------\n",
    "    sequence : str\n",
    "        sequence of characters sampled.\n",
    "    \"\"\"\n",
    "    # Retrienve parameters, shapes, and vocab size\n",
    "    Whh, Wxh, b = parameters[\"Whh\"], parameters[\"Wxh\"], parameters[\"b\"]\n",
    "    Why, c = parameters[\"Why\"], parameters[\"c\"]\n",
    "    n_h, n_x = Wxh.shape\n",
    "    vocab_size = c.shape[0]\n",
    "\n",
    "    # Initialize a0 and x1 to zero vectors\n",
    "    h_prev = np.zeros((n_h, 1))\n",
    "    x = np.zeros((n_x, 1))\n",
    "\n",
    "    # Initialize empty sequence\n",
    "    sequence = \"\"\n",
    "\n",
    "    # Initialize counter to keep track of number of sequences generated\n",
    "    # to not exceed n\n",
    "    counter = 0\n",
    "\n",
    "    while counter <= n:\n",
    "        # Fwd propagation\n",
    "        h = np.tanh(np.dot(Whh, h_prev) + np.dot(Wxh, x) + b)\n",
    "        o = np.dot(Why, h) + c\n",
    "        probs = softmax(o)\n",
    "\n",
    "        # Sample the index of the character using generated probs distribution\n",
    "        idx = np.random.choice(vocab_size, p=probs.ravel())\n",
    "\n",
    "        # Get the character of the sampled index\n",
    "        char = idx_to_chars[idx]\n",
    "\n",
    "        # Add the char to the sequence\n",
    "        sequence += char\n",
    "\n",
    "        # Check if we reached EOS\n",
    "        if char == \"\\n\":\n",
    "            break\n",
    "\n",
    "        # Update a_prev and x\n",
    "        h_prev = h\n",
    "        x = np.zeros((n_x, 1))\n",
    "        x[idx] = 1\n",
    "\n",
    "        counter += 1\n",
    "\n",
    "    return sequence"
   ]
  },
  {
   "cell_type": "code",
   "execution_count": 67,
   "metadata": {
    "code_folding": [
     0
    ],
    "collapsed": true
   },
   "outputs": [
    {
     "name": "stdout",
     "output_type": "stream",
     "text": [
      "(26, 1)\n",
      "26\n",
      "(26, 1)\n",
      "26\n",
      "(26, 1)\n",
      "26\n",
      "(26, 1)\n",
      "26\n",
      "(26, 1)\n",
      "26\n",
      "(26, 1)\n",
      "26\n",
      "(26, 1)\n",
      "26\n",
      "(26, 1)\n",
      "26\n",
      "(26, 1)\n",
      "26\n",
      "(26, 1)\n",
      "26\n",
      "(26, 1)\n",
      "26\n"
     ]
    },
    {
     "data": {
      "text/plain": [
       "'vivaegxzaek'"
      ]
     },
     "execution_count": 67,
     "metadata": {},
     "output_type": "execute_result"
    }
   ],
   "source": [
    "# Test sample function\n",
    "_, n_h = 20, 100\n",
    "Wxh, Whh, Why = np.random.randn(n_h, vocab_size), np.random.randn(n_h, n_h), np.random.randn(vocab_size, n_h)\n",
    "b, c = np.random.randn(n_h, 1), np.random.randn(vocab_size, 1)\n",
    "parameters = {\"Wxh\": Wxh, \"Whh\": Whh, \"Why\": Why, \"b\": b, \"c\": c}\n",
    "\n",
    "sample(parameters, idx_to_chars, chars_to_idx, 10)"
   ]
  },
  {
   "cell_type": "code",
   "execution_count": null,
   "metadata": {
    "code_folding": [
     0
    ]
   },
   "outputs": [],
   "source": [
    "def initialize_parameters(vocab_size, hidden_layer_size):\n",
    "    \"\"\"\n",
    "    Initialze model's parameters. biases will be initialzed to zeros\n",
    "    and weights will be initialized to small random numbers from normal\n",
    "    distribution.\n",
    "\n",
    "    Arguments\n",
    "    ---------\n",
    "    vocab_size : int\n",
    "        size of the vocab dictionary.\n",
    "    hidden_layer_size : int\n",
    "        size of hidden units.\n",
    "\n",
    "    Returns\n",
    "    -------\n",
    "    parameters : python dict\n",
    "        dictionary containing all the initialized parameters.\n",
    "            Whh -- hidden to hidden.\n",
    "            Wxh -- input to hidden.\n",
    "            b -- hidden bias.\n",
    "            Why -- hidden to output.\n",
    "            c -- output bias.\n",
    "    \"\"\"\n",
    "    parameters = {}\n",
    "    parameters[\"Whh\"] = np.random.randn(\n",
    "        hidden_layer_size, hidden_layer_size) * 0.01\n",
    "    parameters[\"Wxh\"] = np.random.randn(hidden_layer_size, vocab_size) * 0.01\n",
    "    parameters[\"b\"] = np.zeros((hidden_layer_size, 1))\n",
    "    parameters[\"Why\"] = np.random.randn(vocab_size, hidden_layer_size) * 0.01\n",
    "    parameters[\"c\"] = np.zeros((vocab_size, 1))\n",
    "\n",
    "    return parameters"
   ]
  },
  {
   "cell_type": "code",
   "execution_count": 34,
   "metadata": {
    "code_folding": [
     0
    ]
   },
   "outputs": [],
   "source": [
    "def smooth_loss(loss, current_loss):\n",
    "    \"\"\"Compute the weighted average of the loss to smooth it out\n",
    "       since it will be noisy given that we'll use stochastic gradient\n",
    "       descent (training one name at a time). Average the loss over past\n",
    "       1000 names by using factor = 0.999\n",
    "    \"\"\"\n",
    "    factor = 0.999\n",
    "    \n",
    "    return factor * loss + (1 - factor) * current_loss"
   ]
  },
  {
   "cell_type": "code",
   "execution_count": null,
   "metadata": {
    "code_folding": [
     0,
     32
    ]
   },
   "outputs": [],
   "source": [
    "def initialize_adam(parameters):\n",
    "    \"\"\"\n",
    "    Initializes v and s as two python dictionaries with:\n",
    "                - keys: \"Whh\", \"Wxh\", \"b\", \"Why\", \"c\".\n",
    "                - values: numpy arrays of zeros of the same shape as the\n",
    "                          corresponding gradients/parameters.\n",
    "\n",
    "    Arguments\n",
    "    ---------\n",
    "    parameters : python dict\n",
    "        dictionary containing the parameters.\n",
    "\n",
    "    Returns\n",
    "    -------\n",
    "    v : python dict\n",
    "        dictionary that will contain the exponentially weighted\n",
    "        average of the gradient.\n",
    "    s : python dict\n",
    "        dictionary that will contain the exponentially weighted\n",
    "        average of the squared gradient.\n",
    "    \"\"\"\n",
    "    parameters_names = [\"Whh\", \"Wxh\", \"b\", \"Why\", \"c\"]\n",
    "    v = {}\n",
    "    s = {}\n",
    "\n",
    "    for param_name in parameters_names:\n",
    "        v[\"d\" + param_name] = np.zeros_like(parameters[param_name])\n",
    "        s[\"d\" + param_name] = np.zeros_like(parameters[param_name])\n",
    "\n",
    "    return v, s\n",
    "\n",
    "\n",
    "def update_parameters_with_adam(parameters, grads, v, s, t, learning_rate,\n",
    "                                beta1=0.9, beta2=0.999, epsilon=1e-8):\n",
    "    \"\"\"\n",
    "    Update parameters using Adam.\n",
    "\n",
    "    Arguments\n",
    "    ---------\n",
    "    parameters : python dict\n",
    "        dictionary containing parameters.\n",
    "    grads : python dict\n",
    "        dictionary containing gradients for each parameters.\n",
    "    v : python dict\n",
    "        Adam variable, moving average of the first gradient.\n",
    "    s : python dict\n",
    "        Adam variable, moving average of the squared gradient.\n",
    "    learning_rate : float\n",
    "        learning rate.\n",
    "    beta1 : float\n",
    "        exponential decay hyperparameter for the first moment estimates.\n",
    "    beta2 : float\n",
    "        exponential decay hyperparameter for the second moment estimates.\n",
    "    epsilon : float\n",
    "        hyperparameter preventing division by zero in Adam updates.\n",
    "\n",
    "    Returns\n",
    "    -------\n",
    "    parameters : python dict\n",
    "        dictionary containing updated parameters.\n",
    "    v : python dict\n",
    "        Adam variable, moving average of the first gradient.\n",
    "    s : python dict\n",
    "        Adam variable, moving average of the squared gradient.\n",
    "    \"\"\"\n",
    "    parameters_names = [\"Whh\", \"Wxh\", \"b\", \"Why\", \"c\"]\n",
    "    v_corrected = {}\n",
    "    s_corrected = {}\n",
    "\n",
    "    for param_name in parameters_names:\n",
    "        # update the moving average of both first gradient and squared gradient\n",
    "        v[\"d\" + param_name] = beta1 * v[\"d\" + param_name] +\\\n",
    "            (1 - beta1) * grads[\"d\" + param_name]\n",
    "        s[\"d\" + param_name] = beta2 * s[\"d\" + param_name] +\\\n",
    "            (1 - beta2) * np.square(grads[\"d\" + param_name])\n",
    "\n",
    "        # compute the corrected-bias estimate of the moving averages\n",
    "        v_corrected[\"d\" + param_name] = v[\"d\" + param_name] / (1 - beta1**t)\n",
    "        s_corrected[\"d\" + param_name] = s[\"d\" + param_name] / (1 - beta2**t)\n",
    "\n",
    "        # update parameters\n",
    "        parameters[param_name] -= (learning_rate * v_corrected[\"d\" + param_name])\\\n",
    "            / (np.sqrt(s_corrected[\"d\" + param_name] + epsilon))\n",
    "\n",
    "    return parameters, v, s"
   ]
  },
  {
   "cell_type": "code",
   "execution_count": null,
   "metadata": {
    "code_folding": [
     0
    ]
   },
   "outputs": [],
   "source": [
    "def rnn_forward(x, y, h_prev, parameters):\n",
    "    \"\"\"\n",
    "    Implement one Forward pass on one name.\n",
    "\n",
    "    Arguments\n",
    "    ---------\n",
    "    x : list\n",
    "        list of integers for the index of the characters in the example\n",
    "        shifted one character to the right.\n",
    "    y : list\n",
    "        list of integers for the index of the characters in the example.\n",
    "    h_prev : array\n",
    "        last hidden state from the previous example.\n",
    "    \n",
    "    parameters : python dict\n",
    "        dictionary containing the parameters.\n",
    "    \n",
    "\n",
    "    Returns\n",
    "    -------\n",
    "    loss : float\n",
    "        cross-entropy loss.\n",
    "    cache : tuple\n",
    "        contains three python dictionaries:\n",
    "            xs -- input of all time steps.\n",
    "            hs -- hidden state of all time steps.\n",
    "            probs -- probability distribution of each character at each time step.\n",
    "    \"\"\"\n",
    "    # Retrieve parameters\n",
    "    Wxh, Whh, bh = parameters[\"Wxh\"], parameters[\"Whh\"], parameters[\"bh\"]\n",
    "    Why, by = parameters[\"Why\"], parameters[\"by\"]\n",
    "\n",
    "    # Initialize inputs, hidden state, output, and probabilities dictionaries\n",
    "    xs, hs, os, probs = {}, {}, {}, {}\n",
    "\n",
    "    # Initialize x0 to zero vector\n",
    "    xs[0] = np.zeros((vocab_size, 1))\n",
    "\n",
    "    # Initialize loss and assigns h_prev to last hidden state in hs\n",
    "    loss = 0\n",
    "    hs[-1] = np.copy(h_prev)\n",
    "\n",
    "    # Forward pass: loop over all characters of the name\n",
    "    for t in range(len(x)):\n",
    "        # Convert to one-hot vector\n",
    "        if t > 0:\n",
    "            xs[t] = np.zeros((vocab_size, 1))\n",
    "            xs[t][x[t]] = 1\n",
    "        # Hidden state\n",
    "        hs[t] = np.tanh(np.dot(Wxh, xs[t]) + np.dot(Whh, hs[t - 1]) + bh)\n",
    "        # Logits\n",
    "        os[t] = np.dot(Why, hs[t]) + by\n",
    "        # Probs\n",
    "        probs[t] = softmax(ys[t])\n",
    "        # Loss\n",
    "        loss -= np.log(probs[t][y[t], 0])\n",
    "\n",
    "    cache = (xs, hs, probs)\n",
    "\n",
    "    return loss, cache"
   ]
  },
  {
   "cell_type": "code",
   "execution_count": null,
   "metadata": {
    "code_folding": [
     0
    ]
   },
   "outputs": [],
   "source": [
    "def rnn_backward(y, parameters, cache):\n",
    "    \"\"\"\n",
    "    Implements Backpropagation on one name.\n",
    "    \"\"\"\n",
    "    # Retrieve xs, hs, and probs\n",
    "    xs, hs, probs = cache\n",
    "\n",
    "    # Initialize all gradients to zero\n",
    "    dh_next = np.zeros_like(hs[0])\n",
    "    \n",
    "    parameters_names = [\"Whh\", \"Wxh\", \"b\", \"Why\", \"c\"]\n",
    "    grads = {}\n",
    "    for param_name in parameters_names:\n",
    "        grads[\"d\" + param_name] = np.zeros_like(parameters[param_name])\n",
    "\n",
    "    # Iterate over all time steps in reverse order starting from Tx\n",
    "    for t in reversed(range(len(xs))):\n",
    "        dy = np.copy(probs[t])\n",
    "        dy[y[t]] -= 1\n",
    "        grads[\"dWhy\"] += np.dot(dy, hs[t].T)\n",
    "        grads[\"dc\"] += dy\n",
    "        dh = np.dot(parameters[\"Why\"].T, dy) + dh_next\n",
    "        dhraw = (1 - hs[t] ** 2) * dh\n",
    "        grads[\"dWhh\"] += np.dot(dhraw, hs[t].T)\n",
    "        grads[\"dWxh\"] += np.dot(dhraw, xs[t].T)\n",
    "        grads[\"db\"] += dhraw\n",
    "        dh_next = np.dot(parameters[\"Whh\"].T, dhraw)\n",
    "        # Clip the gradients using [-5, 5] as the interval\n",
    "        grads = clip_gradients(grads, 5)\n",
    "        \n",
    "    return grads"
   ]
  },
  {
   "cell_type": "code",
   "execution_count": 137,
   "metadata": {
    "code_folding": []
   },
   "outputs": [],
   "source": [
    "def update_parameters(parameters, grads, learning_rate):\n",
    "    for param in parameters.keys():\n",
    "        parameters[param] -= learning_rate * grads[\"d\" + param]\n",
    "        \n",
    "    return parameters"
   ]
  },
  {
   "cell_type": "markdown",
   "metadata": {},
   "source": [
    "<h2 style=\"font-family: Georgia; font-size:2em;color:purple; font-style:bold\">\n",
    "Training</h2><br>"
   ]
  },
  {
   "cell_type": "markdown",
   "metadata": {},
   "source": [
    "The [dataset](http://deron.meranda.us/data/census-derived-all-first.txt) we'll be using has 5,163 names: 4,275 male names, 1,219 female names, and 331 names can be both female and male names."
   ]
  },
  {
   "cell_type": "markdown",
   "metadata": {},
   "source": [
    "<h3 style=\"font-family: Georgia; font-size:1.5em;color:purple; font-style:bold\">\n",
    "Forward Propagation</h3>"
   ]
  },
  {
   "cell_type": "markdown",
   "metadata": {},
   "source": [
    "We'll be using Stochastic Gradient Descent (SGD) where each batch consists only of one example. In other words, the RNN model will learn from each example separately, i.e. run both forward and backward pass on each example and update parameters accordingly.\n",
    "- Create vocabulary dictionary using the unique lower case letters.\n",
    "    - Create character to index dictionary that maps each characters to indices in an ascending order. For example, \"a\" would have index 0 (since python is a zero index language) and \"z\" would have index 25. We will use this dictionary in converting names into list of integers where each letter will be represented as one-hot vector.\n",
    "    - Create index to character dictionary that maps indices to characters. This dictionary will be used to convert the output of the RNN model into characters which will be translated into names.\n",
    "- Initialize parameters: weights will be initialized to small random numbers from standard normal distribution to break symmetry and make sure different hidden units learn different things. On the other hand, biases will be initialized to zeros.\n",
    "    - $W_{hh}$: weight matrix connecting previous hidden state $h^{t - 1}$ to current hidden state $h^t$.\n",
    "    - $W_{xh}$: weight matrix connecting input $x^t$ to hidden state $h^t$.\n",
    "    - $b$: hidden state bias vector.\n",
    "    - $W_{hy}$: weight matrix connecting hidden state $h^t$ to output $o^t$.\n",
    "    - $c$: output bias vector.\n",
    "- Convert input $x^t$ and the output $y^t$into one-hot vector each. The dimension of the one-hot vector is vocab_size x 1. Everything will be zero except for the index of the letter at (t) would be 1. In our case, $x^t$ would be the same as $y^t$ shifted to the right where $x^1 = \\vec{}0$; however, starting from $t = 2$, $x^t = y^{t-1}$. For example, if we use \"imad\" as the input, y = [2, 3, 0, 1] while x = [$\\vec{0}$, 2, 3, 0]. Notice that $x^1 = \\vec{0}$ and not the index 0. \n",
    "- Compute the hidden state using the following formula:\n",
    "$$h^t = tanh(W_{hh}h^{t-1} + W_{xh}x^t + b)\\tag{1}\\\\{}$$\n",
    "Notice that we use hyperbolic tangent $(\\frac{e^x - e^{-x}}{e^x + e^{-x}})$ as the non-linear function. One of the main advantages of the hyperbolic tangent function is that it resembles the identity function.\n",
    "- Compute the output layer using the following formula:\n",
    "$$o^t = W_{hy}h^{t} + c\\tag{2}\\\\{}$$\n",
    "- Pass the output through softmax layer to normalize the output that allows us to express it as a probability, i.e. all output will be between 0 and 1 and sum up to 1. Below is the softmax formula:\n",
    "$$y^t = \\frac{e^{o^t}}{\\sum_ie^{o^t}}\\tag{3}\\\\{}$$\n",
    "The softmax layer has the same dimension as the output layer which is vocab_size x 1. As a result, $y^t[i]$ is the probability of of index $i$ being the next character.\n",
    "- As mentioned before, the objective of a character-level language model is to minimize the negative log-likelihood of the training sequence. Therefore, the loss function at time (t) and the total loss across all time steps are:\n",
    "$$\\mathcal{L}^t = -\\sum_{i = 1}^{T_y}y^tlog\\widehat{y^t}\\tag{4}\\\\{}$$\n",
    "$$\\mathcal{L} = \\sum_{t = 1}^{T_y}\\mathcal{L}^t\\tag{5}$$\n",
    "Since we'll be using SGD, the loss will be so noisy, so it's a good practice to smooth out the loss using expected weighted average of the past 1000 examples.\n",
    "- Pass the target character $y^t$ as the next input $x^{t + 1}$ until we finish the sequence."
   ]
  },
  {
   "cell_type": "markdown",
   "metadata": {},
   "source": [
    "<h3 style=\"font-family: Georgia; font-size:1.5em;color:purple; font-style:bold\">\n",
    "Backpropagation</h3>"
   ]
  },
  {
   "cell_type": "markdown",
   "metadata": {},
   "source": [
    "$$\\nabla_{o^t}\\mathcal{L} = \\widehat{y^t} - y^t\\tag{6}\\\\{}$$\n",
    "$$\\nabla_{W_{hy}}\\mathcal{L} = \\nabla_{o^t}\\mathcal{L} . {h^t}^T\\tag{7}\\\\{}$$\n",
    "$$\\nabla_{c}\\mathcal{L} = \\sum_{i = 1}^{T_y}\\nabla_{o^t}\\mathcal{L} \\tag{8}\\\\{}$$\n",
    "$$\\nabla_{h^t}\\mathcal{L} = W_{hy}^T . \\nabla_{o^t}\\mathcal{L} + W_{hy}^T . \\nabla_{o^{t + 1}}\\mathcal{L} * (1 - tanh(h^{t + 1}) ^ 2)\\tag{9}\\\\{}$$\n",
    "$$\\nabla_{h^{t - 1}}\\mathcal{L} = W_{hh}^T . \\nabla_{h^t}\\mathcal{L} * (1 - tanh(h^t) ^ 2)\\tag{10}\\\\{}$$\n",
    "$$\\nabla_{x^t}\\mathcal{L} = W_{xh}^T . \\nabla_{h^t}\\mathcal{L} * (1 - tanh(h^t) ^ 2)\\tag{11}\\\\{}$$\n",
    "$$\\nabla_{W_{hh}}\\mathcal{L} = \\nabla_{h^t}\\mathcal{L} * (1 - tanh(h^t) ^ 2) . {h^{t - 1}}^T\\tag{12}\\\\{}$$\n",
    "$$\\nabla_{W_{xh}}\\mathcal{L} = \\nabla_{h^t}\\mathcal{L} * (1 - tanh(h^t) ^ 2) . {x^t}^T\\tag{13}\\\\{}$$\n",
    "$$\\nabla_{b}\\mathcal{L} = \\sum_{i = 1}^{T_x}\\nabla_{h^t}\\mathcal{L} * (1 - tanh(h^t) ^ 2) \\tag{14}\\\\{}$$"
   ]
  },
  {
   "cell_type": "markdown",
   "metadata": {},
   "source": [
    "<h3 style=\"font-family: Georgia; font-size:1.5em;color:purple; font-style:bold\">\n",
    "Sampling</h3><br>\n",
    "Sampling is what makes the text generated by the RNN at each time step an interesting/creative text. On each time step (t), the RNN output the conditional probability distribution of the next character given all the previous characters, i.e. $P(c_t/c_1, c_2, ..., c_{t-a})$. Let's assume that at time step $t = 3$ where we're trying to predict the third character, the conditional probability distribution is: $P(c_3/c_1, c_2) = (0.2, 0.3, 0.4, 0.1)$. We'll have two extremes:\n",
    "1. Maximum entropy: the character will be picked randomly using uniform probability distribution; which means that all characters in the vocabulary dictionary are equally likely. Therefore, we'll end up with maximum randomness in picking the next characters and the generated text will not be either meaningful or sound real.\n",
    "2. Minimum entropy: the character with the highest conditional probability will be picked on each time step. That means next character will be what the model estimates to be the right one based on the training text and learned parameters. As a result, the name generated will be both meaningful and sound real.\n",
    "\n",
    "As we increase randomness, text will loose local structure; however, as we decrease randomness, the generated text will sound more real and start to preserve its local structure. For this exercise, we will sample from the distribution that's generated by the model which can be seen as an intermediate level of randomness between maximum and minimum entropy. Using this sampling strategy on the above distribution, the index 0 (letter \"a\" in our example) has $20%$ probability of being picked, while index 2 (letter \"i\" in our example) has $40%$ probability to be picked.\n",
    "<p align=\"left\">\n",
    "<img src=\"posts_images/char_level_model/sampling.png\"; style=\"width: 800px; height: 600px\"><br>\n",
    "<caption><center><u><font color=\"purple\">**Figure 2:**</font></u> Sampling: An example of predicting next character using character-level language model</center></caption>\n",
    "</p>"
   ]
  },
  {
   "cell_type": "code",
   "execution_count": 2,
   "metadata": {
    "code_folding": [
     0
    ]
   },
   "outputs": [
    {
     "name": "stdout",
     "output_type": "stream",
     "text": [
      "There are 36121 characters and 26 unique characters.\n"
     ]
    }
   ],
   "source": [
    "# Load names\n",
    "data = open(\"../data/names.txt\", \"r\").read()\n",
    "\n",
    "# Convert characters to lower case\n",
    "data = data.lower()\n",
    "\n",
    "# Construct vocabulary using unique characters, sort it in ascending order,\n",
    "# then construct two dictionaries that maps character to index and index to\n",
    "# characters.\n",
    "chars = list(sorted(set(data)))[1:]\n",
    "chars_to_idx = {ch:i for i, ch in enumerate(chars)}\n",
    "idx_to_chars = {i:ch for ch, i in chars_to_idx.items()}\n",
    "\n",
    "# Get the size of the data and vocab size\n",
    "data_size = len(data)\n",
    "vocab_size = len(chars_to_idx)\n",
    "print(f\"There are {data_size} characters and {vocab_size} unique characters.\")"
   ]
  },
  {
   "cell_type": "code",
   "execution_count": 3,
   "metadata": {
    "collapsed": true
   },
   "outputs": [
    {
     "data": {
      "text/plain": [
       "{'a': 0,\n",
       " 'b': 1,\n",
       " 'c': 2,\n",
       " 'd': 3,\n",
       " 'e': 4,\n",
       " 'f': 5,\n",
       " 'g': 6,\n",
       " 'h': 7,\n",
       " 'i': 8,\n",
       " 'j': 9,\n",
       " 'k': 10,\n",
       " 'l': 11,\n",
       " 'm': 12,\n",
       " 'n': 13,\n",
       " 'o': 14,\n",
       " 'p': 15,\n",
       " 'q': 16,\n",
       " 'r': 17,\n",
       " 's': 18,\n",
       " 't': 19,\n",
       " 'u': 20,\n",
       " 'v': 21,\n",
       " 'w': 22,\n",
       " 'x': 23,\n",
       " 'y': 24,\n",
       " 'z': 25}"
      ]
     },
     "execution_count": 3,
     "metadata": {},
     "output_type": "execute_result"
    }
   ],
   "source": [
    "chars_to_idx"
   ]
  },
  {
   "cell_type": "code",
   "execution_count": 138,
   "metadata": {
    "code_folding": [
     0
    ]
   },
   "outputs": [],
   "source": [
    "def model(file_path, chars_to_idx, idx_to_chars, hidden_layer_size, vocab_size, num_epochs=10, learning_rate=0.01):\n",
    "    \"\"\"\n",
    "    Implements vanilla RNN to generate characters.\n",
    "\n",
    "    Arguments\n",
    "    ---------\n",
    "    file_path : str\n",
    "        path to the file of the raw data.\n",
    "    num_epochs : int\n",
    "        number of passes the optimization algorithm to go over the training data.\n",
    "    learning_rate : float\n",
    "        step size of learning.\n",
    "    chars_to_idx : python dict\n",
    "        dictionary mapping characters to indices.\n",
    "    idx_to_chars : python dict\n",
    "        dictionary mapping indices to characters.\n",
    "    hidden_layer_size : int\n",
    "        number of hidden units in the hidden layer.\n",
    "    vocab_size : int\n",
    "        size of vocabulary dictionary (unique characters in the data).\n",
    "\n",
    "    Returns\n",
    "    -------\n",
    "\n",
    "    \"\"\"\n",
    "    # Get the data\n",
    "    with open(file_path) as f:\n",
    "        data = f.readlines()\n",
    "    examples = [x.lower().strip() for x in data]\n",
    "#     print(examples)\n",
    "    # Initialize parameters\n",
    "    parameters = initialize_parameters(vocab_size, hidden_layer_size)\n",
    "    \n",
    "    # Initialize Adam parameters\n",
    "    v, s = initialize_adam(parameters)\n",
    "    t = 0\n",
    "\n",
    "    # Initialize loss\n",
    "    smoothed_loss = -np.log(1 / vocab_size) * 7\n",
    "    \n",
    "    # Initialize hidden state h0 and overall loss\n",
    "    h_prev = np.zeros((hidden_layer_size, 1))\n",
    "    overall_loss = []\n",
    "    \n",
    "    # Iterate over number of epochs\n",
    "    for epoch in range(num_epochs):\n",
    "        print(f\"Epoch {epoch}---\")\n",
    "        # Shuffle examples\n",
    "        np.random.shuffle(examples)\n",
    "        \n",
    "        counter = 0\n",
    "        # Iterate over all examples (SGD)\n",
    "        for example in examples:\n",
    "            y = [chars_to_idx[char] for char in example]\n",
    "            x = [None] + y[1:]\n",
    "            \n",
    "            # Fwd pass\n",
    "            loss, cache = rnn_forward(x, y, h_prev, parameters)\n",
    "            \n",
    "            # Compute smooth loss\n",
    "            smoothed_loss = smooth_loss(loss, smoothed_loss)\n",
    "\n",
    "            # Bwd pass\n",
    "            grads = rnn_backward(y, parameters, cache)\n",
    "            \n",
    "            # Update parameters\n",
    "            t += 1\n",
    "            parameters, v, s = update_parameters_with_adam(parameters, grads, v, s, t, learning_rate)\n",
    "            parameters = update_parameters(parameters, grads, learning_rate)\n",
    "\n",
    "        overall_loss.append(smoothed_loss)\n",
    "            # sample one name\n",
    "#             if counter % 1000 == 0:\n",
    "#                 print(sample(parameters, idx_to_chars, chars_to_idx, 7))\n",
    "        \n",
    "    return parameters, overall_loss"
   ]
  },
  {
   "cell_type": "code",
   "execution_count": 141,
   "metadata": {
    "collapsed": true
   },
   "outputs": [
    {
     "name": "stdout",
     "output_type": "stream",
     "text": [
      "Epoch 0---\n",
      "Epoch 1---\n",
      "Epoch 2---\n",
      "Epoch 3---\n",
      "Epoch 4---\n",
      "Epoch 5---\n",
      "Epoch 6---\n",
      "Epoch 7---\n",
      "Epoch 8---\n",
      "Epoch 9---\n"
     ]
    }
   ],
   "source": [
    "parameters, loss = model(\"../data/nam\", chars_to_idx, idx_to_chars, 100, vocab_size, 10, 0.01)"
   ]
  },
  {
   "cell_type": "code",
   "execution_count": 142,
   "metadata": {
    "collapsed": true
   },
   "outputs": [
    {
     "data": {
      "text/plain": [
       "[<matplotlib.lines.Line2D at 0x119888128>]"
      ]
     },
     "execution_count": 142,
     "metadata": {},
     "output_type": "execute_result"
    },
    {
     "data": {
      "image/png": "[encoded data removed]",
      "text/plain": [
       "<matplotlib.figure.Figure at 0x11840c2e8>"
      ]
     },
     "metadata": {},
     "output_type": "display_data"
    }
   ],
   "source": [
    "plt.plot(range(len(loss)), loss)"
   ]
  },
  {
   "cell_type": "markdown",
   "metadata": {},
   "source": [
    "<h2 style=\"font-family: Georgia; font-size:2em;color:purple; font-style:bold\">\n",
    "Conclusion</h2><br>"
   ]
  },
  {
   "cell_type": "markdown",
   "metadata": {},
   "source": [
    "- More data, bigger model, and train longer leads to interesting results. With sampling technique we're using, don't expect the RNN to generate meaningful sequence of characters (names)."
   ]
  }
 ],
 "metadata": {
  "kernelspec": {
   "display_name": "Python 3",
   "language": "python",
   "name": "python3"
  },
  "language_info": {
   "codemirror_mode": {
    "name": "ipython",
    "version": 3
   },
   "file_extension": ".py",
   "mimetype": "text/x-python",
   "name": "python",
   "nbconvert_exporter": "python",
   "pygments_lexer": "ipython3",
   "version": "3.6.4"
  }
 },
 "nbformat": 4,
 "nbformat_minor": 2
}
