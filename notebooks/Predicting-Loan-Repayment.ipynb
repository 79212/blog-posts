{
 "cells": [
  {
   "cell_type": "markdown",
   "metadata": {},
   "source": [
    "<h1 style=\"font-family: Georgia; font-size:3em;color:#2462C0; font-style:bold\">\n",
    "Predicting Loan Repayment</h1><br>\n",
    "\n",
    "<p align=\"center\">\n",
    "<img src=\"images/Loans-borrow-repay.jpg\"; style=\"height: 400px; width: 800px\">\n",
    "</p>"
   ]
  },
  {
   "cell_type": "markdown",
   "metadata": {},
   "source": [
    " <h2 style=\"font-family: Georgia; font-size:2em;color:purple; font-style:bold\">\n",
    "Introduction</h2><br>\n",
    "**Ensemble methods** can be defined as combining several different models (base learners) into final model (meta learner) to reduce the generalization error. It relies on the assumption that each model would look at a different aspect of the data which yield to capturing part of the truth. Combining good performing models the were trained independently will capture more of the truth than a single model. Therefore, this would result in more accurate predictions and lower generalization errors.\n",
    "- Almost always ensemble model performance gets improved as we add more models.\n",
    "- Try to combine models that are as much different as possible. This will reduce the correlation between the models that will improve the performance of the ensemble model that will lead to significantly outperform the best model. In the worst case where all models are perfectly correlated, the ensemble would have the same performance as the best model and sometimes even lower if some models are very bad. As aresult, pick models that are as good as possible.\n",
    "\n",
    "Diﬀerent ensemble methods construct the ensemble of models in diﬀerent ways. Below are the most common methods:\n",
    "- Averaging the predictions of all models.\n",
    "- Bagging: build different models on different datasets and then take the majority vote from all the models. Given the original dataset, we sample with replacement to get the same size of the original dataset. Therefore, each dataset will include, on average, 2/3 of the original data and the rest 1/3 will be duplicates. Since each model will be built on different dataset, it can be seen as a different model.\n",
    "- Boosting: build models sequentially. That means each model learns from the residuals for the previous model. The output will be all output of each single model weighted by the learning rate ($\\lambda$).\n",
    "- Build k models called base learners. Then fit a model to the output of the base learners to predict the final output. We'll explain more in \"Modeling\" section of how it works."
   ]
  },
  {
   "cell_type": "markdown",
   "metadata": {},
   "source": [
    " <h2 style=\"font-family: Georgia; font-size:2em;color:purple; font-style:bold\">\n",
    "Dataset</h2><br>\n",
    "The two most critical questions in the lending industry are: 1) How risky is the borrower? 2) Given the borrower's risk, should we lend him? The answer to the first question determines the interest rate the borrower would have. Interest rate measures among other things (such as time value of money) the riskness of the borrower. The riskier the borrower, the higher the interest rate. With interest rate in mind, we can then determine if the borrower is eligible for the loan.\n",
    "\n",
    "Investors(lenders) provide loans to borrowers in exchange for the promise of repayment with interest. That means the lender only makes profit (interest) if the borrower pays off the loan. However, if he doesn't repay the loan, then the lender loses money.\n",
    "\n",
    "We'll be using publicly available data from [LendingClub.com](https://www.LendingClub.com). The data covers the 9,578 loans funded by the platform between May 2007 and February 2010. The interest rate is provided to us for each borrower. Therefore, so we'll address the second question indirectly by trying to predict if the borrower will repay the loan by its mature date or not.\n",
    "\n",
    "Below is a short description of each feature in the data set:\n",
    "- credit_policy: 1 if the customer meets the credit underwriting criteria of LendingClub.com, and 0 otherwise.\n",
    "- purpose: The purpose of the loan such as: credit_card, debt_consolidation, etc.\n",
    "- int_rate: The interest rate of the loan (proportion).\n",
    "- installment: The monthly installments (\\$) owed by the borrower if the loan is funded.\n",
    "- log_annual_inc: The natural log of the annual income of the borrower.\n",
    "- dti: The debt-to-income ratio of the borrower.\n",
    "- fico: The FICO credit score of the borrower.\n",
    "- days_with_cr_line: The number of days the borrower has had a credit line.\n",
    "- revol_bal: The borrower's revolving balance.\n",
    "- revol_util: The borrower's revolving line utilization rate.\n",
    "- inq_last_6mths: The borrower's number of inquiries by creditors in the last 6 months.\n",
    "- delinq_2yrs: The number of times the borrower had been 30+ days past due on a payment in the past 2 years.\n",
    "- pub_rec: The borrower's number of derogatory public records.\n",
    "- not_fully_paid: indicates whether the loan was not paid back in full (the borrower either defaulted or the borrower was deemed unlikely to pay it back).\n",
    "\n",
    "Let's load the data, take a look at the data types of each feature and check if we have missing values."
   ]
  },
  {
   "cell_type": "code",
   "execution_count": 1,
   "metadata": {},
   "outputs": [
    {
     "name": "stderr",
     "output_type": "stream",
     "text": [
      "/anaconda3/lib/python3.6/site-packages/h5py/__init__.py:34: FutureWarning: Conversion of the second argument of issubdtype from `float` to `np.floating` is deprecated. In future, it will be treated as `np.float64 == np.dtype(float).type`.\n",
      "  from ._conv import register_converters as _register_converters\n",
      "Using TensorFlow backend.\n"
     ]
    }
   ],
   "source": [
    "import os\n",
    "\n",
    "from keras import models, layers, optimizers\n",
    "import matplotlib.pyplot as plt\n",
    "import numpy as np\n",
    "import pandas as pd\n",
    "import seaborn as sns\n",
    "from sklearn.model_selection import train_test_split, GridSearchCV\n",
    "from sklearn.preprocessing import Imputer, StandardScaler\n",
    "from sklearn.decomposition import PCA\n",
    "from sklearn.utils import resample\n",
    "from sklearn.ensemble import RandomForestClassifier, GradientBoostingClassifier, ExtraTreesClassifier\n",
    "from sklearn.linear_model import LinearRegression, LogisticRegression\n",
    "from sklearn.svm import SVC\n",
    "from sklearn.neighbors import KNeighborsClassifier\n",
    "from sklearn.metrics import roc_auc_score, confusion_matrix, accuracy_score\n",
    "from sklearn.pipeline import make_pipeline\n",
    "from warnings import filterwarnings\n",
    "import xgboost as xgb\n",
    "\n",
    "# os.chdir(\"../\")\n",
    "# from scripts.plot_roc import plot_conf_matrix_and_roc, plot_roc\n",
    "\n",
    "%matplotlib inline\n",
    "plt.style.use(\"ggplot\")\n",
    "sns.set_context(\"notebook\")\n",
    "filterwarnings(\"ignore\")"
   ]
  },
  {
   "cell_type": "code",
   "execution_count": 2,
   "metadata": {},
   "outputs": [
    {
     "name": "stdout",
     "output_type": "stream",
     "text": [
      "\u001b[1m\u001b[94mData types:\n",
      "-----------\n",
      "\u001b[30mcredit_policy          int64\n",
      "purpose               object\n",
      "int_rate             float64\n",
      "installment          float64\n",
      "log_annual_inc       float64\n",
      "dti                  float64\n",
      "fico                   int64\n",
      "days_with_cr_line    float64\n",
      "revol_bal              int64\n",
      "revol_util           float64\n",
      "inq_last_6mths       float64\n",
      "delinq_2yrs          float64\n",
      "pub_rec              float64\n",
      "not_fully_paid         int64\n",
      "dtype: object\n",
      "\n",
      "\u001b[1m\u001b[94mSum of null values in each column:\n",
      "-----------------------------------\n",
      "\u001b[30mcredit_policy         0\n",
      "purpose               0\n",
      "int_rate              0\n",
      "installment           0\n",
      "log_annual_inc        4\n",
      "dti                   0\n",
      "fico                  0\n",
      "days_with_cr_line    29\n",
      "revol_bal             0\n",
      "revol_util           62\n",
      "inq_last_6mths       29\n",
      "delinq_2yrs          29\n",
      "pub_rec              29\n",
      "not_fully_paid        0\n",
      "dtype: int64\n"
     ]
    },
    {
     "data": {
      "text/html": [
       "<div>\n",
       "<style>\n",
       "    .dataframe thead tr:only-child th {\n",
       "        text-align: right;\n",
       "    }\n",
       "\n",
       "    .dataframe thead th {\n",
       "        text-align: left;\n",
       "    }\n",
       "\n",
       "    .dataframe tbody tr th {\n",
       "        vertical-align: top;\n",
       "    }\n",
       "</style>\n",
       "<table border=\"1\" class=\"dataframe\">\n",
       "  <thead>\n",
       "    <tr style=\"text-align: right;\">\n",
       "      <th></th>\n",
       "      <th>credit_policy</th>\n",
       "      <th>purpose</th>\n",
       "      <th>int_rate</th>\n",
       "      <th>installment</th>\n",
       "      <th>log_annual_inc</th>\n",
       "      <th>dti</th>\n",
       "      <th>fico</th>\n",
       "      <th>days_with_cr_line</th>\n",
       "      <th>revol_bal</th>\n",
       "      <th>revol_util</th>\n",
       "      <th>inq_last_6mths</th>\n",
       "      <th>delinq_2yrs</th>\n",
       "      <th>pub_rec</th>\n",
       "      <th>not_fully_paid</th>\n",
       "    </tr>\n",
       "  </thead>\n",
       "  <tbody>\n",
       "    <tr>\n",
       "      <th>0</th>\n",
       "      <td>1</td>\n",
       "      <td>debt_consolidation</td>\n",
       "      <td>0.1189</td>\n",
       "      <td>829.10</td>\n",
       "      <td>11.350407</td>\n",
       "      <td>19.48</td>\n",
       "      <td>737</td>\n",
       "      <td>5639.958333</td>\n",
       "      <td>28854</td>\n",
       "      <td>52.1</td>\n",
       "      <td>0.0</td>\n",
       "      <td>0.0</td>\n",
       "      <td>0.0</td>\n",
       "      <td>0</td>\n",
       "    </tr>\n",
       "    <tr>\n",
       "      <th>1</th>\n",
       "      <td>1</td>\n",
       "      <td>credit_card</td>\n",
       "      <td>0.1071</td>\n",
       "      <td>228.22</td>\n",
       "      <td>11.082143</td>\n",
       "      <td>14.29</td>\n",
       "      <td>707</td>\n",
       "      <td>2760.000000</td>\n",
       "      <td>33623</td>\n",
       "      <td>76.7</td>\n",
       "      <td>0.0</td>\n",
       "      <td>0.0</td>\n",
       "      <td>0.0</td>\n",
       "      <td>0</td>\n",
       "    </tr>\n",
       "    <tr>\n",
       "      <th>2</th>\n",
       "      <td>1</td>\n",
       "      <td>debt_consolidation</td>\n",
       "      <td>0.1357</td>\n",
       "      <td>366.86</td>\n",
       "      <td>10.373491</td>\n",
       "      <td>11.63</td>\n",
       "      <td>682</td>\n",
       "      <td>4710.000000</td>\n",
       "      <td>3511</td>\n",
       "      <td>25.6</td>\n",
       "      <td>1.0</td>\n",
       "      <td>0.0</td>\n",
       "      <td>0.0</td>\n",
       "      <td>0</td>\n",
       "    </tr>\n",
       "    <tr>\n",
       "      <th>3</th>\n",
       "      <td>1</td>\n",
       "      <td>debt_consolidation</td>\n",
       "      <td>0.1008</td>\n",
       "      <td>162.34</td>\n",
       "      <td>11.350407</td>\n",
       "      <td>8.10</td>\n",
       "      <td>712</td>\n",
       "      <td>2699.958333</td>\n",
       "      <td>33667</td>\n",
       "      <td>73.2</td>\n",
       "      <td>1.0</td>\n",
       "      <td>0.0</td>\n",
       "      <td>0.0</td>\n",
       "      <td>0</td>\n",
       "    </tr>\n",
       "    <tr>\n",
       "      <th>4</th>\n",
       "      <td>1</td>\n",
       "      <td>credit_card</td>\n",
       "      <td>0.1426</td>\n",
       "      <td>102.92</td>\n",
       "      <td>11.299732</td>\n",
       "      <td>14.97</td>\n",
       "      <td>667</td>\n",
       "      <td>4066.000000</td>\n",
       "      <td>4740</td>\n",
       "      <td>39.5</td>\n",
       "      <td>0.0</td>\n",
       "      <td>1.0</td>\n",
       "      <td>0.0</td>\n",
       "      <td>0</td>\n",
       "    </tr>\n",
       "  </tbody>\n",
       "</table>\n",
       "</div>"
      ],
      "text/plain": [
       "   credit_policy             purpose  int_rate  installment  log_annual_inc  \\\n",
       "0              1  debt_consolidation    0.1189       829.10       11.350407   \n",
       "1              1         credit_card    0.1071       228.22       11.082143   \n",
       "2              1  debt_consolidation    0.1357       366.86       10.373491   \n",
       "3              1  debt_consolidation    0.1008       162.34       11.350407   \n",
       "4              1         credit_card    0.1426       102.92       11.299732   \n",
       "\n",
       "     dti  fico  days_with_cr_line  revol_bal  revol_util  inq_last_6mths  \\\n",
       "0  19.48   737        5639.958333      28854        52.1             0.0   \n",
       "1  14.29   707        2760.000000      33623        76.7             0.0   \n",
       "2  11.63   682        4710.000000       3511        25.6             1.0   \n",
       "3   8.10   712        2699.958333      33667        73.2             1.0   \n",
       "4  14.97   667        4066.000000       4740        39.5             0.0   \n",
       "\n",
       "   delinq_2yrs  pub_rec  not_fully_paid  \n",
       "0          0.0      0.0               0  \n",
       "1          0.0      0.0               0  \n",
       "2          0.0      0.0               0  \n",
       "3          0.0      0.0               0  \n",
       "4          1.0      0.0               0  "
      ]
     },
     "execution_count": 2,
     "metadata": {},
     "output_type": "execute_result"
    }
   ],
   "source": [
    "# Load the data\n",
    "df = pd.read_csv(\"../data/loans.csv\")\n",
    "\n",
    "# Check both the datatypes and if there is missing values\n",
    "print(f\"\\033[1m\\033[94mData types:\\n{11 * '-'}\")\n",
    "print(f\"\\033[30m{df.dtypes}\\n\")\n",
    "print(f\"\\033[1m\\033[94mSum of null values in each column:\\n{35 * '-'}\")\n",
    "print(f\"\\033[30m{df.isnull().sum()}\")\n",
    "df.head()"
   ]
  },
  {
   "cell_type": "markdown",
   "metadata": {},
   "source": [
    "It looks like we have missing data in almost haf of the features. Let's check the count of each class to see if we are dealing with balanced/imbalanced classification problem."
   ]
  },
  {
   "cell_type": "code",
   "execution_count": 3,
   "metadata": {},
   "outputs": [
    {
     "name": "stdout",
     "output_type": "stream",
     "text": [
      "Positive examples = 1533\n",
      "Negative examples = 8045\n",
      "Proportion of positive to negative examples = 19.06%\n"
     ]
    },
    {
     "data": {
      "image/png": "[encoded data removed]",
      "text/plain": [
       "<matplotlib.figure.Figure at 0x11c23db70>"
      ]
     },
     "metadata": {},
     "output_type": "display_data"
    }
   ],
   "source": [
    "# Get number of positve and negative examples\n",
    "pos = df[df[\"not_fully_paid\"] == 1].shape[0]\n",
    "neg = df[df[\"not_fully_paid\"] == 0].shape[0]\n",
    "print(f\"Positive examples = {pos}\")\n",
    "print(f\"Negative examples = {neg}\")\n",
    "print(f\"Proportion of positive to negative examples = {(pos / neg) * 100:.2f}%\")\n",
    "plt.figure(figsize=(8, 6))\n",
    "sns.countplot(df[\"not_fully_paid\"])\n",
    "plt.xticks((0, 1), [\"Not paid fully\", \"Paid fully\"])\n",
    "plt.xlabel(\"\")\n",
    "plt.ylabel(\"Count\")\n",
    "plt.title(\"Class counts\");"
   ]
  },
  {
   "cell_type": "markdown",
   "metadata": {},
   "source": [
    "Since we are dealing with imbalanced data, we'll explain in more details in \"Data Preprocessing\" section on how to deal with it. Note that positive example here means that the borrower didn't fully pay the loan, not the other way around."
   ]
  },
  {
   "cell_type": "markdown",
   "metadata": {},
   "source": [
    "<h3 style=\"font-family: Georgia; font-size:2em;color:purple; font-style:bold\">\n",
    "Data Preprocessing</h3>"
   ]
  },
  {
   "cell_type": "markdown",
   "metadata": {},
   "source": [
    "1. Create dummy variables from the feature \"purpose\" since its nominal (not ordinal) categorical variable. It's also a good practice to drop the first one to avoid linear dependency between the resulted features since some algorithms may struggle with this issue.\n",
    "2. Split the data into train and test using 80/20 split rule.\n",
    "3. Impute the missing values using the mean of each feature.\n",
    "4. Standardize the data so that each feature would have zero mean and 1 standard deviation.\n",
    "5. Since we're dealing with imbalanced data, class imbalance influences a learning algorithm during training by making the decision rule biased towards the majority class by implicitly learns a model that optimizes the predictions based on the majority class in the dataset. To deal with this issue, we'll upsample the positive examples to be equal the negative examples and use metrics other than accuracy when comparing models such as *f1-score* or *AUC* (area under ROC curve).\n",
    "\n",
    "Note that **Imputation** and **Standardization** should be first fit to training data and then transform test data. "
   ]
  },
  {
   "cell_type": "code",
   "execution_count": 4,
   "metadata": {},
   "outputs": [
    {
     "data": {
      "text/html": [
       "<div>\n",
       "<style>\n",
       "    .dataframe thead tr:only-child th {\n",
       "        text-align: right;\n",
       "    }\n",
       "\n",
       "    .dataframe thead th {\n",
       "        text-align: left;\n",
       "    }\n",
       "\n",
       "    .dataframe tbody tr th {\n",
       "        vertical-align: top;\n",
       "    }\n",
       "</style>\n",
       "<table border=\"1\" class=\"dataframe\">\n",
       "  <thead>\n",
       "    <tr style=\"text-align: right;\">\n",
       "      <th></th>\n",
       "      <th>credit_policy</th>\n",
       "      <th>int_rate</th>\n",
       "      <th>installment</th>\n",
       "      <th>log_annual_inc</th>\n",
       "      <th>dti</th>\n",
       "      <th>fico</th>\n",
       "      <th>days_with_cr_line</th>\n",
       "      <th>revol_bal</th>\n",
       "      <th>revol_util</th>\n",
       "      <th>inq_last_6mths</th>\n",
       "      <th>delinq_2yrs</th>\n",
       "      <th>pub_rec</th>\n",
       "      <th>not_fully_paid</th>\n",
       "      <th>purpose_credit_card</th>\n",
       "      <th>purpose_debt_consolidation</th>\n",
       "      <th>purpose_educational</th>\n",
       "      <th>purpose_home_improvement</th>\n",
       "      <th>purpose_major_purchase</th>\n",
       "      <th>purpose_small_business</th>\n",
       "    </tr>\n",
       "  </thead>\n",
       "  <tbody>\n",
       "    <tr>\n",
       "      <th>0</th>\n",
       "      <td>1</td>\n",
       "      <td>0.1189</td>\n",
       "      <td>829.10</td>\n",
       "      <td>11.350407</td>\n",
       "      <td>19.48</td>\n",
       "      <td>737</td>\n",
       "      <td>5639.958333</td>\n",
       "      <td>28854</td>\n",
       "      <td>52.1</td>\n",
       "      <td>0.0</td>\n",
       "      <td>0.0</td>\n",
       "      <td>0.0</td>\n",
       "      <td>0</td>\n",
       "      <td>0</td>\n",
       "      <td>1</td>\n",
       "      <td>0</td>\n",
       "      <td>0</td>\n",
       "      <td>0</td>\n",
       "      <td>0</td>\n",
       "    </tr>\n",
       "    <tr>\n",
       "      <th>1</th>\n",
       "      <td>1</td>\n",
       "      <td>0.1071</td>\n",
       "      <td>228.22</td>\n",
       "      <td>11.082143</td>\n",
       "      <td>14.29</td>\n",
       "      <td>707</td>\n",
       "      <td>2760.000000</td>\n",
       "      <td>33623</td>\n",
       "      <td>76.7</td>\n",
       "      <td>0.0</td>\n",
       "      <td>0.0</td>\n",
       "      <td>0.0</td>\n",
       "      <td>0</td>\n",
       "      <td>1</td>\n",
       "      <td>0</td>\n",
       "      <td>0</td>\n",
       "      <td>0</td>\n",
       "      <td>0</td>\n",
       "      <td>0</td>\n",
       "    </tr>\n",
       "    <tr>\n",
       "      <th>2</th>\n",
       "      <td>1</td>\n",
       "      <td>0.1357</td>\n",
       "      <td>366.86</td>\n",
       "      <td>10.373491</td>\n",
       "      <td>11.63</td>\n",
       "      <td>682</td>\n",
       "      <td>4710.000000</td>\n",
       "      <td>3511</td>\n",
       "      <td>25.6</td>\n",
       "      <td>1.0</td>\n",
       "      <td>0.0</td>\n",
       "      <td>0.0</td>\n",
       "      <td>0</td>\n",
       "      <td>0</td>\n",
       "      <td>1</td>\n",
       "      <td>0</td>\n",
       "      <td>0</td>\n",
       "      <td>0</td>\n",
       "      <td>0</td>\n",
       "    </tr>\n",
       "    <tr>\n",
       "      <th>3</th>\n",
       "      <td>1</td>\n",
       "      <td>0.1008</td>\n",
       "      <td>162.34</td>\n",
       "      <td>11.350407</td>\n",
       "      <td>8.10</td>\n",
       "      <td>712</td>\n",
       "      <td>2699.958333</td>\n",
       "      <td>33667</td>\n",
       "      <td>73.2</td>\n",
       "      <td>1.0</td>\n",
       "      <td>0.0</td>\n",
       "      <td>0.0</td>\n",
       "      <td>0</td>\n",
       "      <td>0</td>\n",
       "      <td>1</td>\n",
       "      <td>0</td>\n",
       "      <td>0</td>\n",
       "      <td>0</td>\n",
       "      <td>0</td>\n",
       "    </tr>\n",
       "    <tr>\n",
       "      <th>4</th>\n",
       "      <td>1</td>\n",
       "      <td>0.1426</td>\n",
       "      <td>102.92</td>\n",
       "      <td>11.299732</td>\n",
       "      <td>14.97</td>\n",
       "      <td>667</td>\n",
       "      <td>4066.000000</td>\n",
       "      <td>4740</td>\n",
       "      <td>39.5</td>\n",
       "      <td>0.0</td>\n",
       "      <td>1.0</td>\n",
       "      <td>0.0</td>\n",
       "      <td>0</td>\n",
       "      <td>1</td>\n",
       "      <td>0</td>\n",
       "      <td>0</td>\n",
       "      <td>0</td>\n",
       "      <td>0</td>\n",
       "      <td>0</td>\n",
       "    </tr>\n",
       "  </tbody>\n",
       "</table>\n",
       "</div>"
      ],
      "text/plain": [
       "   credit_policy  int_rate  installment  log_annual_inc    dti  fico  \\\n",
       "0              1    0.1189       829.10       11.350407  19.48   737   \n",
       "1              1    0.1071       228.22       11.082143  14.29   707   \n",
       "2              1    0.1357       366.86       10.373491  11.63   682   \n",
       "3              1    0.1008       162.34       11.350407   8.10   712   \n",
       "4              1    0.1426       102.92       11.299732  14.97   667   \n",
       "\n",
       "   days_with_cr_line  revol_bal  revol_util  inq_last_6mths  delinq_2yrs  \\\n",
       "0        5639.958333      28854        52.1             0.0          0.0   \n",
       "1        2760.000000      33623        76.7             0.0          0.0   \n",
       "2        4710.000000       3511        25.6             1.0          0.0   \n",
       "3        2699.958333      33667        73.2             1.0          0.0   \n",
       "4        4066.000000       4740        39.5             0.0          1.0   \n",
       "\n",
       "   pub_rec  not_fully_paid  purpose_credit_card  purpose_debt_consolidation  \\\n",
       "0      0.0               0                    0                           1   \n",
       "1      0.0               0                    1                           0   \n",
       "2      0.0               0                    0                           1   \n",
       "3      0.0               0                    0                           1   \n",
       "4      0.0               0                    1                           0   \n",
       "\n",
       "   purpose_educational  purpose_home_improvement  purpose_major_purchase  \\\n",
       "0                    0                         0                       0   \n",
       "1                    0                         0                       0   \n",
       "2                    0                         0                       0   \n",
       "3                    0                         0                       0   \n",
       "4                    0                         0                       0   \n",
       "\n",
       "   purpose_small_business  \n",
       "0                       0  \n",
       "1                       0  \n",
       "2                       0  \n",
       "3                       0  \n",
       "4                       0  "
      ]
     },
     "execution_count": 4,
     "metadata": {},
     "output_type": "execute_result"
    }
   ],
   "source": [
    "# Create dummy variables from the feature purpose\n",
    "df = pd.get_dummies(df, columns=[\"purpose\"], drop_first=True)\n",
    "df.head()"
   ]
  },
  {
   "cell_type": "code",
   "execution_count": 5,
   "metadata": {},
   "outputs": [
    {
     "data": {
      "text/plain": [
       "((7662, 18), (7662,), (1916, 18), (1916,))"
      ]
     },
     "execution_count": 5,
     "metadata": {},
     "output_type": "execute_result"
    }
   ],
   "source": [
    "# Convert dataframe into features and labels nd-arrays\n",
    "X = df.loc[:, df.columns != \"not_fully_paid\"].values\n",
    "y = df.loc[:, df.columns == \"not_fully_paid\"].values.flatten()\n",
    "\n",
    "# Split the data into train and test using 80/20\n",
    "X_train, X_test, y_train, y_test = train_test_split(X, y, test_size=0.2, shuffle=True, random_state=123, stratify=y)\n",
    "X_train.shape, y_train.shape, X_test.shape, y_test.shape"
   ]
  },
  {
   "cell_type": "code",
   "execution_count": 6,
   "metadata": {},
   "outputs": [
    {
     "name": "stdout",
     "output_type": "stream",
     "text": [
      "\u001b[1m\u001b[94mSum of null values in training data: 0\n",
      "Sum of null values in test data: 0\n"
     ]
    }
   ],
   "source": [
    "# Impute the missing data using features means\n",
    "imp = Imputer()\n",
    "imp.fit(X_train)\n",
    "X_train = imp.transform(X_train)\n",
    "X_test = imp.transform(X_test)\n",
    "print(f\"\\033[1m\\033[94mSum of null values in training data: {np.isnan(X_train).sum()}\")\n",
    "print(f\"Sum of null values in test data: {np.isnan(X_test).sum()}\")"
   ]
  },
  {
   "cell_type": "code",
   "execution_count": 7,
   "metadata": {},
   "outputs": [],
   "source": [
    "# Standardize the data\n",
    "std = StandardScaler()\n",
    "std.fit(X_train)\n",
    "X_train = std.transform(X_train) \n",
    "X_test = std.transform(X_test)"
   ]
  },
  {
   "cell_type": "code",
   "execution_count": 8,
   "metadata": {},
   "outputs": [
    {
     "name": "stdout",
     "output_type": "stream",
     "text": [
      "Original shape: (7662, 18) (7662,)\n",
      "Upsampled shape: (12872, 18) (12872,)\n"
     ]
    }
   ],
   "source": [
    "# Upsample minority class\n",
    "X_train_u, y_train_u = resample(X_train[y_train == 1],\n",
    "                                y_train[y_train == 1],\n",
    "                                replace=True,\n",
    "                                n_samples=X_train[y_train == 0].shape[0],\n",
    "                                random_state=1)\n",
    "X_train_u = np.concatenate((X_train[y_train == 0], X_train_u))\n",
    "y_train_u = np.concatenate((y_train[y_train == 0], y_train_u))\n",
    "print(\"Original shape:\", X_train.shape, y_train.shape)\n",
    "print(\"Upsampled shape:\", X_train_u.shape, y_train_u.shape)"
   ]
  },
  {
   "cell_type": "code",
   "execution_count": 23,
   "metadata": {},
   "outputs": [
    {
     "name": "stdout",
     "output_type": "stream",
     "text": [
      "Original shape: (7662, 18) (7662,)\n",
      "Downsampled shape: (2452, 18) (2452,)\n"
     ]
    }
   ],
   "source": [
    "# Upsample minority class\n",
    "X_train_d, y_train_d = resample(X_train[y_train == 0],\n",
    "                                y_train[y_train == 0],\n",
    "                                replace=True,\n",
    "                                n_samples=X_train[y_train == 1].shape[0],\n",
    "                                random_state=1)\n",
    "X_train_d = np.concatenate((X_train[y_train == 1], X_train_d))\n",
    "y_train_d = np.concatenate((y_train[y_train == 1], y_train_d))\n",
    "print(\"Original shape:\", X_train.shape, y_train.shape)\n",
    "print(\"Downsampled shape:\", X_train_d.shape, y_train_d.shape)"
   ]
  },
  {
   "cell_type": "markdown",
   "metadata": {},
   "source": [
    "Now the dataset is ready for modeling. Also, the upsampled training data size is 12,872; however, the test data size is 1,916 which was not affected by the upsampling step."
   ]
  },
  {
   "cell_type": "markdown",
   "metadata": {},
   "source": [
    "<h3 style=\"font-family: Georgia; font-size:2em;color:purple; font-style:bold\">\n",
    "Modeling</h3>"
   ]
  },
  {
   "cell_type": "code",
   "execution_count": 11,
   "metadata": {},
   "outputs": [
    {
     "name": "stdout",
     "output_type": "stream",
     "text": [
      "98.47\n"
     ]
    }
   ],
   "source": [
    "pip_rf = make_pipeline(RandomForestClassifier(class_weight=\"balanced\",\n",
    "                                              random_state=123))\n",
    "hyperparam_grid = {\n",
    "        \"randomforestclassifier__n_estimators\": [10, 50, 100, 500],\n",
    "        \"randomforestclassifier__max_features\": [\"sqrt\", \"log2\", 0.4, 0.5],\n",
    "        \"randomforestclassifier__min_samples_leaf\": [1, 3, 5],\n",
    "        \"randomforestclassifier__criterion\": [\"gini\", \"entropy\"]}\n",
    "    \n",
    "gs_rf = GridSearchCV(pip_rf,\n",
    "                     hyperparam_grid,\n",
    "                     scoring=\"f1\",\n",
    "                     cv=10,\n",
    "                     n_jobs=-1)\n",
    "gs_rf.fit(X_train_u, y_train_u)\n",
    "print(f\"{gs_rf.best_score_ * 100:.2f}\")"
   ]
  },
  {
   "cell_type": "code",
   "execution_count": 13,
   "metadata": {},
   "outputs": [
    {
     "data": {
      "text/plain": [
       "0.6817423572210874"
      ]
     },
     "execution_count": 13,
     "metadata": {},
     "output_type": "execute_result"
    }
   ],
   "source": [
    "roc_auc_score(y_test, gs_rf.best_estimator_.predict_proba(X_test)[:, 1])"
   ]
  },
  {
   "cell_type": "code",
   "execution_count": 16,
   "metadata": {},
   "outputs": [
    {
     "name": "stdout",
     "output_type": "stream",
     "text": [
      "63.74\n"
     ]
    }
   ],
   "source": [
    "pip_logmod = make_pipeline(LogisticRegression(class_weight=\"balanced\"))\n",
    "\n",
    "hyperparam_range = np.arange(0.5, 20.1, 0.5)\n",
    "\n",
    "hyperparam_grid = {\"logisticregression__penalty\": [\"l1\", \"l2\"],\n",
    "                   \"logisticregression__C\":  hyperparam_range,\n",
    "                   \"logisticregression__fit_intercept\": [True, False]\n",
    "                  }\n",
    "\n",
    "gs_logmodel = GridSearchCV(pip_logmod,\n",
    "                           hyperparam_grid,\n",
    "                           scoring=\"f1\",\n",
    "                           cv=10,\n",
    "                           n_jobs=-1)\n",
    "\n",
    "gs_logmodel.fit(X_train_u, y_train_u)\n",
    "print(f\"{gs_logmodel.best_score_ * 100:.2f}\")"
   ]
  },
  {
   "cell_type": "code",
   "execution_count": 17,
   "metadata": {},
   "outputs": [
    {
     "data": {
      "text/plain": [
       "0.7061217135696398"
      ]
     },
     "execution_count": 17,
     "metadata": {},
     "output_type": "execute_result"
    }
   ],
   "source": [
    "roc_auc_score(y_test, gs_logmodel.best_estimator_.predict_proba(X_test)[:, 1])"
   ]
  },
  {
   "cell_type": "code",
   "execution_count": 21,
   "metadata": {},
   "outputs": [
    {
     "name": "stdout",
     "output_type": "stream",
     "text": [
      "Fitting 2 folds for each of 27104 candidates, totalling 54208 fits\n"
     ]
    },
    {
     "name": "stderr",
     "output_type": "stream",
     "text": [
      "[Parallel(n_jobs=-1)]: Done  88 tasks      | elapsed:    2.3s\n"
     ]
    },
    {
     "ename": "KeyboardInterrupt",
     "evalue": "",
     "output_type": "error",
     "traceback": [
      "\u001b[0;31m---------------------------------------------------------------------------\u001b[0m",
      "\u001b[0;31mKeyboardInterrupt\u001b[0m                         Traceback (most recent call last)",
      "\u001b[0;32m<ipython-input-21-1511ec8649e4>\u001b[0m in \u001b[0;36m<module>\u001b[0;34m()\u001b[0m\n\u001b[1;32m     16\u001b[0m                       verbose=1)\n\u001b[1;32m     17\u001b[0m \u001b[0;34m\u001b[0m\u001b[0m\n\u001b[0;32m---> 18\u001b[0;31m \u001b[0mgs_xgb\u001b[0m\u001b[0;34m.\u001b[0m\u001b[0mfit\u001b[0m\u001b[0;34m(\u001b[0m\u001b[0mX_train_u\u001b[0m\u001b[0;34m,\u001b[0m \u001b[0my_train_u\u001b[0m\u001b[0;34m)\u001b[0m\u001b[0;34m\u001b[0m\u001b[0m\n\u001b[0m\u001b[1;32m     19\u001b[0m \u001b[0mprint\u001b[0m\u001b[0;34m(\u001b[0m\u001b[0;34mf\"{gs_xgb.best_score_ * 100:.2f}\"\u001b[0m\u001b[0;34m)\u001b[0m\u001b[0;34m\u001b[0m\u001b[0m\n",
      "\u001b[0;32m/anaconda3/lib/python3.6/site-packages/sklearn/model_selection/_search.py\u001b[0m in \u001b[0;36mfit\u001b[0;34m(self, X, y, groups, **fit_params)\u001b[0m\n\u001b[1;32m    637\u001b[0m                                   error_score=self.error_score)\n\u001b[1;32m    638\u001b[0m           for parameters, (train, test) in product(candidate_params,\n\u001b[0;32m--> 639\u001b[0;31m                                                    cv.split(X, y, groups)))\n\u001b[0m\u001b[1;32m    640\u001b[0m \u001b[0;34m\u001b[0m\u001b[0m\n\u001b[1;32m    641\u001b[0m         \u001b[0;31m# if one choose to see train score, \"out\" will contain train score info\u001b[0m\u001b[0;34m\u001b[0m\u001b[0;34m\u001b[0m\u001b[0m\n",
      "\u001b[0;32m/anaconda3/lib/python3.6/site-packages/sklearn/externals/joblib/parallel.py\u001b[0m in \u001b[0;36m__call__\u001b[0;34m(self, iterable)\u001b[0m\n\u001b[1;32m    787\u001b[0m                 \u001b[0;31m# consumption.\u001b[0m\u001b[0;34m\u001b[0m\u001b[0;34m\u001b[0m\u001b[0m\n\u001b[1;32m    788\u001b[0m                 \u001b[0mself\u001b[0m\u001b[0;34m.\u001b[0m\u001b[0m_iterating\u001b[0m \u001b[0;34m=\u001b[0m \u001b[0;32mFalse\u001b[0m\u001b[0;34m\u001b[0m\u001b[0m\n\u001b[0;32m--> 789\u001b[0;31m             \u001b[0mself\u001b[0m\u001b[0;34m.\u001b[0m\u001b[0mretrieve\u001b[0m\u001b[0;34m(\u001b[0m\u001b[0;34m)\u001b[0m\u001b[0;34m\u001b[0m\u001b[0m\n\u001b[0m\u001b[1;32m    790\u001b[0m             \u001b[0;31m# Make sure that we get a last message telling us we are done\u001b[0m\u001b[0;34m\u001b[0m\u001b[0;34m\u001b[0m\u001b[0m\n\u001b[1;32m    791\u001b[0m             \u001b[0melapsed_time\u001b[0m \u001b[0;34m=\u001b[0m \u001b[0mtime\u001b[0m\u001b[0;34m.\u001b[0m\u001b[0mtime\u001b[0m\u001b[0;34m(\u001b[0m\u001b[0;34m)\u001b[0m \u001b[0;34m-\u001b[0m \u001b[0mself\u001b[0m\u001b[0;34m.\u001b[0m\u001b[0m_start_time\u001b[0m\u001b[0;34m\u001b[0m\u001b[0m\n",
      "\u001b[0;32m/anaconda3/lib/python3.6/site-packages/sklearn/externals/joblib/parallel.py\u001b[0m in \u001b[0;36mretrieve\u001b[0;34m(self)\u001b[0m\n\u001b[1;32m    697\u001b[0m             \u001b[0;32mtry\u001b[0m\u001b[0;34m:\u001b[0m\u001b[0;34m\u001b[0m\u001b[0m\n\u001b[1;32m    698\u001b[0m                 \u001b[0;32mif\u001b[0m \u001b[0mgetattr\u001b[0m\u001b[0;34m(\u001b[0m\u001b[0mself\u001b[0m\u001b[0;34m.\u001b[0m\u001b[0m_backend\u001b[0m\u001b[0;34m,\u001b[0m \u001b[0;34m'supports_timeout'\u001b[0m\u001b[0;34m,\u001b[0m \u001b[0;32mFalse\u001b[0m\u001b[0;34m)\u001b[0m\u001b[0;34m:\u001b[0m\u001b[0;34m\u001b[0m\u001b[0m\n\u001b[0;32m--> 699\u001b[0;31m                     \u001b[0mself\u001b[0m\u001b[0;34m.\u001b[0m\u001b[0m_output\u001b[0m\u001b[0;34m.\u001b[0m\u001b[0mextend\u001b[0m\u001b[0;34m(\u001b[0m\u001b[0mjob\u001b[0m\u001b[0;34m.\u001b[0m\u001b[0mget\u001b[0m\u001b[0;34m(\u001b[0m\u001b[0mtimeout\u001b[0m\u001b[0;34m=\u001b[0m\u001b[0mself\u001b[0m\u001b[0;34m.\u001b[0m\u001b[0mtimeout\u001b[0m\u001b[0;34m)\u001b[0m\u001b[0;34m)\u001b[0m\u001b[0;34m\u001b[0m\u001b[0m\n\u001b[0m\u001b[1;32m    700\u001b[0m                 \u001b[0;32melse\u001b[0m\u001b[0;34m:\u001b[0m\u001b[0;34m\u001b[0m\u001b[0m\n\u001b[1;32m    701\u001b[0m                     \u001b[0mself\u001b[0m\u001b[0;34m.\u001b[0m\u001b[0m_output\u001b[0m\u001b[0;34m.\u001b[0m\u001b[0mextend\u001b[0m\u001b[0;34m(\u001b[0m\u001b[0mjob\u001b[0m\u001b[0;34m.\u001b[0m\u001b[0mget\u001b[0m\u001b[0;34m(\u001b[0m\u001b[0;34m)\u001b[0m\u001b[0;34m)\u001b[0m\u001b[0;34m\u001b[0m\u001b[0m\n",
      "\u001b[0;32m/anaconda3/lib/python3.6/multiprocessing/pool.py\u001b[0m in \u001b[0;36mget\u001b[0;34m(self, timeout)\u001b[0m\n\u001b[1;32m    636\u001b[0m \u001b[0;34m\u001b[0m\u001b[0m\n\u001b[1;32m    637\u001b[0m     \u001b[0;32mdef\u001b[0m \u001b[0mget\u001b[0m\u001b[0;34m(\u001b[0m\u001b[0mself\u001b[0m\u001b[0;34m,\u001b[0m \u001b[0mtimeout\u001b[0m\u001b[0;34m=\u001b[0m\u001b[0;32mNone\u001b[0m\u001b[0;34m)\u001b[0m\u001b[0;34m:\u001b[0m\u001b[0;34m\u001b[0m\u001b[0m\n\u001b[0;32m--> 638\u001b[0;31m         \u001b[0mself\u001b[0m\u001b[0;34m.\u001b[0m\u001b[0mwait\u001b[0m\u001b[0;34m(\u001b[0m\u001b[0mtimeout\u001b[0m\u001b[0;34m)\u001b[0m\u001b[0;34m\u001b[0m\u001b[0m\n\u001b[0m\u001b[1;32m    639\u001b[0m         \u001b[0;32mif\u001b[0m \u001b[0;32mnot\u001b[0m \u001b[0mself\u001b[0m\u001b[0;34m.\u001b[0m\u001b[0mready\u001b[0m\u001b[0;34m(\u001b[0m\u001b[0;34m)\u001b[0m\u001b[0;34m:\u001b[0m\u001b[0;34m\u001b[0m\u001b[0m\n\u001b[1;32m    640\u001b[0m             \u001b[0;32mraise\u001b[0m \u001b[0mTimeoutError\u001b[0m\u001b[0;34m\u001b[0m\u001b[0m\n",
      "\u001b[0;32m/anaconda3/lib/python3.6/multiprocessing/pool.py\u001b[0m in \u001b[0;36mwait\u001b[0;34m(self, timeout)\u001b[0m\n\u001b[1;32m    633\u001b[0m \u001b[0;34m\u001b[0m\u001b[0m\n\u001b[1;32m    634\u001b[0m     \u001b[0;32mdef\u001b[0m \u001b[0mwait\u001b[0m\u001b[0;34m(\u001b[0m\u001b[0mself\u001b[0m\u001b[0;34m,\u001b[0m \u001b[0mtimeout\u001b[0m\u001b[0;34m=\u001b[0m\u001b[0;32mNone\u001b[0m\u001b[0;34m)\u001b[0m\u001b[0;34m:\u001b[0m\u001b[0;34m\u001b[0m\u001b[0m\n\u001b[0;32m--> 635\u001b[0;31m         \u001b[0mself\u001b[0m\u001b[0;34m.\u001b[0m\u001b[0m_event\u001b[0m\u001b[0;34m.\u001b[0m\u001b[0mwait\u001b[0m\u001b[0;34m(\u001b[0m\u001b[0mtimeout\u001b[0m\u001b[0;34m)\u001b[0m\u001b[0;34m\u001b[0m\u001b[0m\n\u001b[0m\u001b[1;32m    636\u001b[0m \u001b[0;34m\u001b[0m\u001b[0m\n\u001b[1;32m    637\u001b[0m     \u001b[0;32mdef\u001b[0m \u001b[0mget\u001b[0m\u001b[0;34m(\u001b[0m\u001b[0mself\u001b[0m\u001b[0;34m,\u001b[0m \u001b[0mtimeout\u001b[0m\u001b[0;34m=\u001b[0m\u001b[0;32mNone\u001b[0m\u001b[0;34m)\u001b[0m\u001b[0;34m:\u001b[0m\u001b[0;34m\u001b[0m\u001b[0m\n",
      "\u001b[0;32m/anaconda3/lib/python3.6/threading.py\u001b[0m in \u001b[0;36mwait\u001b[0;34m(self, timeout)\u001b[0m\n\u001b[1;32m    549\u001b[0m             \u001b[0msignaled\u001b[0m \u001b[0;34m=\u001b[0m \u001b[0mself\u001b[0m\u001b[0;34m.\u001b[0m\u001b[0m_flag\u001b[0m\u001b[0;34m\u001b[0m\u001b[0m\n\u001b[1;32m    550\u001b[0m             \u001b[0;32mif\u001b[0m \u001b[0;32mnot\u001b[0m \u001b[0msignaled\u001b[0m\u001b[0;34m:\u001b[0m\u001b[0;34m\u001b[0m\u001b[0m\n\u001b[0;32m--> 551\u001b[0;31m                 \u001b[0msignaled\u001b[0m \u001b[0;34m=\u001b[0m \u001b[0mself\u001b[0m\u001b[0;34m.\u001b[0m\u001b[0m_cond\u001b[0m\u001b[0;34m.\u001b[0m\u001b[0mwait\u001b[0m\u001b[0;34m(\u001b[0m\u001b[0mtimeout\u001b[0m\u001b[0;34m)\u001b[0m\u001b[0;34m\u001b[0m\u001b[0m\n\u001b[0m\u001b[1;32m    552\u001b[0m             \u001b[0;32mreturn\u001b[0m \u001b[0msignaled\u001b[0m\u001b[0;34m\u001b[0m\u001b[0m\n\u001b[1;32m    553\u001b[0m \u001b[0;34m\u001b[0m\u001b[0m\n",
      "\u001b[0;32m/anaconda3/lib/python3.6/threading.py\u001b[0m in \u001b[0;36mwait\u001b[0;34m(self, timeout)\u001b[0m\n\u001b[1;32m    293\u001b[0m         \u001b[0;32mtry\u001b[0m\u001b[0;34m:\u001b[0m    \u001b[0;31m# restore state no matter what (e.g., KeyboardInterrupt)\u001b[0m\u001b[0;34m\u001b[0m\u001b[0m\n\u001b[1;32m    294\u001b[0m             \u001b[0;32mif\u001b[0m \u001b[0mtimeout\u001b[0m \u001b[0;32mis\u001b[0m \u001b[0;32mNone\u001b[0m\u001b[0;34m:\u001b[0m\u001b[0;34m\u001b[0m\u001b[0m\n\u001b[0;32m--> 295\u001b[0;31m                 \u001b[0mwaiter\u001b[0m\u001b[0;34m.\u001b[0m\u001b[0macquire\u001b[0m\u001b[0;34m(\u001b[0m\u001b[0;34m)\u001b[0m\u001b[0;34m\u001b[0m\u001b[0m\n\u001b[0m\u001b[1;32m    296\u001b[0m                 \u001b[0mgotit\u001b[0m \u001b[0;34m=\u001b[0m \u001b[0;32mTrue\u001b[0m\u001b[0;34m\u001b[0m\u001b[0m\n\u001b[1;32m    297\u001b[0m             \u001b[0;32melse\u001b[0m\u001b[0;34m:\u001b[0m\u001b[0;34m\u001b[0m\u001b[0m\n",
      "\u001b[0;31mKeyboardInterrupt\u001b[0m: "
     ]
    }
   ],
   "source": [
    "pip_xgb = make_pipeline(xgb.XGBClassifier())\n",
    " \n",
    "hyperparam_grid = {\n",
    "    \"xgbclassifier__n_estimators\": [10, 50, 100, 500],\n",
    "    \"xgbclassifier__learning_rate\": [0.01, 0.1, 0.5, 1.0, 10.0, 50.0, 100.0],\n",
    "    \"xgbclassifier__gamma\": np.arange(0., 0.51, 0.05),\n",
    "    \"xgbclassifier__max_depth\": [1, 2, 3, 4, 5, 10, 20, 50],\n",
    "    \"xgbclassifier__subsample\": np.arange(0.0, 1.01, 0.1)\n",
    "                  }\n",
    "\n",
    "gs_xgb = GridSearchCV(pip_xgb,\n",
    "                      hyperparam_grid,\n",
    "                      scoring=\"f1\",\n",
    "                      cv=2,\n",
    "                      n_jobs=-1,\n",
    "                      verbose=1)\n",
    "\n",
    "gs_xgb.fit(X_train_u, y_train_u)\n",
    "print(f\"{gs_xgb.best_score_ * 100:.2f}\")"
   ]
  },
  {
   "cell_type": "code",
   "execution_count": 29,
   "metadata": {
    "code_folding": [
     0,
     11,
     32
    ]
   },
   "outputs": [],
   "source": [
    "# Build and train ensemble model\n",
    "def train_ensemble(X_train, y_train, X_test):\n",
    "    # Split the training data into training and validation where training\n",
    "    # will be used in fitting base learners and validation will be used to\n",
    "    # fit meta learner model,=.\n",
    "    X_train, X_valid, y_train, y_valid = train_test_split(X_train, y_train,\n",
    "                                                          test_size=0.5,\n",
    "                                                          random_state=123,\n",
    "                                                          stratify=y)\n",
    "\n",
    "    # Build base learners\n",
    "    def build_base_learners():\n",
    "        base_learners = {\"random_forest\": RandomForestClassifier(n_estimators=500,\n",
    "                                                                 max_features=0.25,\n",
    "                                                                 criterion=\"entropy\"),\n",
    "                         \"logistic_regression\": LogisticRegression(C=1.5,\n",
    "                                                                   penalty=\"l1\",\n",
    "                                                                   fit_intercept=True),\n",
    "                         \"extra_tree\": ExtraTreesClassifier(n_estimators=1000,\n",
    "                                                            max_features=\"log2\",\n",
    "                                                            criterion=\"entropy\"),\n",
    "                         \"gradient_boosting\": GradientBoostingClassifier(loss=\"deviance\",\n",
    "                                                                         learning_rate=0.1,\n",
    "                                                                         n_estimators=500,\n",
    "                                                                         max_depth=3,\n",
    "                                                                         max_features=\"log2\"),\n",
    "                         \"svc\": SVC(C=0.01, gamma=0.1, kernel=\"poly\", degree=3, coef0=10,\n",
    "                                    probability=True)}\n",
    "        return base_learners\n",
    "\n",
    "\n",
    "    # Build meta learner\n",
    "    def build_meta_learner():\n",
    "        meta_learner = RandomForestClassifier(n_estimators=500,\n",
    "                                              max_features=0.25,\n",
    "                                              criterion=\"entropy\")\n",
    "        return meta_learner\n",
    "\n",
    "\n",
    "    # Train base learners\n",
    "    def train_base_learners(base_learners_dict, X_train, y_train):\n",
    "        for name, classifier in base_learners.items():\n",
    "            print(f\"\\033[1m\\033[94mTraining {name} classifier...\")\n",
    "            classifier.fit(X_train, y_train)\n",
    "            print(f\"\\033[1m\\033[92mDone\")\n",
    "        \n",
    "\n",
    "    # Predict the prob matrix for positive examples for all base learners\n",
    "    def base_learners_predict(base_learners, X_valid):\n",
    "        base_learners_names = base_learners.keys()\n",
    "        prob_matrix = np.zeros((X_valid.shape[0], len(base_learners)))\n",
    "        prob_matrix = pd.DataFrame(prob_matrix)\n",
    "        prob_matrix.columns = base_learners_names\n",
    "\n",
    "        for name, classifier in base_learners.items():\n",
    "            prob_matrix.loc[:, name] = classifier.predict_proba(X_valid)[:, 1]\n",
    "\n",
    "        return prob_matrix\n",
    "\n",
    "\n",
    "    # Train meta learner using the probability matrix from base learners prediction\n",
    "    # and the validation labels\n",
    "    def train_meta_learner(meta_learner, base_learners_probs, y_valid):\n",
    "            print(f\"\\033[1m\\033[94mTraining starts...\")\n",
    "            meta_learner.fit(base_learners_probs, y_valid)\n",
    "            print(f\"\\033[1m\\033[92mDone\")\n",
    "\n",
    "\n",
    "    # Predict test labels using meta learner\n",
    "    def meta_learner_predict(base_learners, meta_learner, X_test):\n",
    "        base_learner_probs = base_learners_predict(base_learners, X_test)\n",
    "        return meta_learner.predict_proba(base_learner_probs)[:, 1]\n",
    "    \n",
    "    return meta_learner_predict(base_learners, )\n"
   ]
  },
  {
   "cell_type": "code",
   "execution_count": null,
   "metadata": {
    "code_folding": [
     0
    ]
   },
   "outputs": [],
   "source": [
    "class Ensemble:\n",
    "    \"\"\"Implement ensemble model\"\"\"\n",
    "    def __init__(self, base_learners, X_train, y_train):\n",
    "        \"\"\"\n",
    "        base_learners: dict\n",
    "            base learners sklearn.estimator\n",
    "        \"\"\"\n",
    "        self.base_learners = base_learners\n",
    "        self.meta_learner = RandomForestClassifier(n_estimators=500,\n",
    "                                                   max_features=0.25,\n",
    "                                                   criterion=\"entropy\")\n",
    "        self.X_train = X_train\n",
    "        self.y_train = y_train\n",
    "        self.X_train_base, self.y_train_base, self.X_train_pred, self.y_train_pred = split_train_data()\n",
    "        \n",
    "        def split_train_data(self):\n",
    "            \"\"\"Split the training data 50/50 into training for base learners and training\n",
    "               for meta learner.\n",
    "            \"\"\"\n",
    "            X_train_base, X_train_pred, y_train_base, y_train_pred = train_test_split(\n",
    "                self.X_train, self.y_train, test_size=0.5, random_state=123, stratify=y)\n",
    "            \n",
    "            return X_train_base, y_train_base, X_train_pred, y_train_pred\n",
    "        \n",
    "        def train_base_learner(self):\n",
    "            \"\"\"Train base learners\"\"\"\n",
    "            for name, classifier in self.base_learners.items():\n",
    "                print(f\"\\033[1m\\033[94mTraining {name} classifier...\")\n",
    "                classifier.fit(X_train, y_train)\n",
    "                print(f\"\\033[1m\\033[92mDone\")\n",
    "                \n",
    "        def base_learners_predict(self):\n",
    "            self.prob_matrix = np.zeros((self.X_train_pred.shape[0], len(self.base_learners)))\n",
    "            self.prob_matrix = pd.DataFrame(prob_matrix)\n",
    "            self.prob_matrix.columns = base_learners.keys()\n",
    "\n",
    "            for name, classifier in self.base_learners.items():\n",
    "                self.prob_matrix.loc[:, name] = classifier.predict_proba(self.X_train_pred)[:, 1]\n",
    "\n",
    "            return self.prob_matrix\n",
    "        \n",
    "        def train_meta_learner(self)\n",
    "            print(f\"\\033[1m\\033[94mTraining starts...\")\n",
    "            meta_learner.fit(self.prob_matrix, y_train_pred)\n",
    "            print(f\"\\033[1m\\033[92mDone\")\n",
    "            \n",
    "        def meta_learner_predict(self, X_test):\n",
    "            base_learner_pred = \n",
    "            return meta_learner.predict_proba(base_learner_probs)[:, 1]     "
   ]
  },
  {
   "cell_type": "code",
   "execution_count": 25,
   "metadata": {},
   "outputs": [
    {
     "data": {
      "text/plain": [
       "(9578, 19)"
      ]
     },
     "execution_count": 25,
     "metadata": {},
     "output_type": "execute_result"
    }
   ],
   "source": [
    "df.shape"
   ]
  },
  {
   "cell_type": "code",
   "execution_count": 26,
   "metadata": {},
   "outputs": [],
   "source": [
    "# Define base learners\n",
    "base_learners = {\"random_forest\": RandomForestClassifier(n_estimators=500,\n",
    "                                                         max_features=0.25,\n",
    "                                                         criterion=\"entropy\"),\n",
    "                 \"logistic_regression\": LogisticRegression(C=1.5,\n",
    "                                                           penalty=\"l1\",\n",
    "                                                           fit_intercept=True),\n",
    "#                  \"extra_tree\": ExtraTreesClassifier(n_estimators=1000,\n",
    "#                                                     max_features=\"log2\",\n",
    "#                                                     criterion=\"entropy\"),\n",
    "#                  \"gradient_boosting\": GradientBoostingClassifier(loss=\"deviance\",\n",
    "#                                                                  learning_rate=0.1,\n",
    "#                                                                  n_estimators=500,\n",
    "#                                                                  max_depth=3,\n",
    "#                                                                  max_features=\"log2\"),\n",
    "                 \"svc\": SVC(C=0.01, gamma=0.1, kernel=\"poly\", degree=3, coef0=10,\n",
    "                            probability=True)}\n",
    "\n",
    "# Define meta learner\n",
    "# meta_learner = RandomForestClassifier(n_estimators=500,\n",
    "#                                       max_features=0.25,\n",
    "#                                       criterion=\"entropy\")\n",
    "# meta_learner = LinearRegression()\n",
    "meta_learner = GradientBoostingClassifier(loss=\"deviance\",\n",
    "                                         learning_rate=0.01,\n",
    "                                         n_estimators=500,\n",
    "                                         max_depth=3,\n",
    "                                         max_features=\"log2\")\n",
    "meta_learner = LogisticRegression(C=1.5,\n",
    "                                   penalty=\"l1\",\n",
    "                                   fit_intercept=True)\n",
    "\n",
    "def train_base_learners(base_learners, X_train_base, y_train_base):\n",
    "    print(\"Training base learners starts\")\n",
    "    print(20 * \"---\")\n",
    "    for name, classifier in base_learners.items():\n",
    "        print(f\"\\033[1m\\033[94mTraining {name} classifier...\")\n",
    "        classifier.fit(X_train_base, y_train_base)\n",
    "        print(f\"\\033[1m\\033[92mDone\")\n",
    "    print(20 * \"---\")\n",
    "\n",
    "\n",
    "def predict_base_learners(base_learners, X_train_pred):\n",
    "    probs_matrix = np.zeros((X_train_pred.shape[0], len(base_learners)))\n",
    "    probs_matrix = pd.DataFrame(probs_matrix)\n",
    "    probs_matrix.columns = base_learners.keys()\n",
    "\n",
    "    for name, classifier in base_learners.items():\n",
    "        probs_matrix.loc[:, name] = classifier.predict_proba(X_train_pred)[:, 1]\n",
    "\n",
    "    return probs_matrix\n",
    "\n",
    "\n",
    "\n",
    "def train_meta_learner(meta_learner, base_learners_probs, y_train_pred):\n",
    "    print(f\"\\033[1m\\033[94mTraining meta learner starts...\")\n",
    "    meta_learner.fit(base_learners_probs, y_train_pred)\n",
    "    print(f\"\\033[1m\\033[92mDone\")\n",
    "    print(20 * \"---\")\n",
    "    \n",
    "\n",
    "def predict_meta_learner(meta_learner, base_learner_probs, X_test):\n",
    "    return meta_learner.predict_proba(base_learner_probs)[:, 1]\n",
    "#     return meta_learner.predict(base_learner_probs)\n",
    "\n",
    "\n",
    "def ensemble_avg(probs_matrix):\n",
    "    return probs_matrix.mean(axis=1)\n",
    "\n",
    "\n",
    "# Define ensemble weighing method\n",
    "def plot_ensemble_roc(base_learners, meta_learner, X_train, y_train, X_test, y_test):\n",
    "   # Split the data 50/50 into training for base learners and training for meta learner\n",
    "    X_train_base, X_train_pred, y_train_base, y_train_pred = train_test_split(\n",
    "        X_train_u, y_train_u, test_size=0.4, random_state=123, stratify=y_train_u) \n",
    "    \n",
    "    # Train both base learners and meta learner\n",
    "    # Train base learners\n",
    "    train_base_learners(base_learners, X_train_base, y_train_base)\n",
    "    \n",
    "    # Predict probs matrix\n",
    "    base_probs = predict_base_learners(base_learners, X_train_pred)\n",
    "    \n",
    "    # Train meta learner\n",
    "    train_meta_learner(meta_learner, base_probs, y_train_pred)\n",
    "    \n",
    "    # Predict test examples\n",
    "    # Predict test probs\n",
    "    base_probs_test = predict_base_learners(base_learners, X_test)\n",
    "    \n",
    "    # Predict final output using meta learner estimator\n",
    "    meta_probs_test = predict_meta_learner(meta_learner, base_probs_test, X_test)\n",
    "    \n",
    "    # Avergae base learners\n",
    "    avg_probs_test = ensemble_avg(base_probs_test)\n",
    "    \n",
    "#     results = {}\n",
    "    \n",
    "#     for learner in estimators.keys():\n",
    "#         # Compute tpr, fpr, auc and confusion matrix\n",
    "#         fpr, tpr, thresholds = roc_curve(y, estimators[estimator].predict_proba(X)[:, 1])\n",
    "#         auc = roc_auc_score(y, estimators[estimator].predict_proba(X)[:, 1])\n",
    "\n",
    "#         # Plot ROC curce\n",
    "#         plt.plot(fpr, tpr, label=\"{}: auc = {:.3f}\".format(estimator, auc))\n",
    "#         plt.title(\"ROC curve\", y=1, fontdict={\"fontsize\": 20})\n",
    "#         plt.legend(loc=\"lower right\", fontsize=\"medium\")\n",
    "    \n",
    "#     plt.plot([0, 1], [0, 1], \"--\")\n",
    "#     plt.xlabel(\"False positive rate\", fontdict={\"fontsize\": 16})\n",
    "#     plt.ylabel(\"True positive rate\", fontdict={\"fontsize\": 16});\n",
    "    return base_probs_test, avg_probs_test, meta_probs_test"
   ]
  },
  {
   "cell_type": "code",
   "execution_count": 28,
   "metadata": {},
   "outputs": [
    {
     "name": "stdout",
     "output_type": "stream",
     "text": [
      "Training base learners starts\n",
      "------------------------------------------------------------\n",
      "\u001b[1m\u001b[94mTraining random_forest classifier...\n",
      "\u001b[1m\u001b[92mDone\n",
      "\u001b[1m\u001b[94mTraining logistic_regression classifier...\n",
      "\u001b[1m\u001b[92mDone\n",
      "\u001b[1m\u001b[94mTraining svc classifier...\n",
      "\u001b[1m\u001b[92mDone\n",
      "------------------------------------------------------------\n",
      "\u001b[1m\u001b[94mTraining meta learner starts...\n",
      "\u001b[1m\u001b[92mDone\n",
      "------------------------------------------------------------\n"
     ]
    }
   ],
   "source": [
    "b, a, m = plot_ensemble_roc(base_learners, meta_learner, X_train_d, y_train_d, X_test, y_test)"
   ]
  },
  {
   "cell_type": "code",
   "execution_count": 29,
   "metadata": {},
   "outputs": [
    {
     "data": {
      "text/plain": [
       "(0.7003864661928121, 0.6326000125515474)"
      ]
     },
     "execution_count": 29,
     "metadata": {},
     "output_type": "execute_result"
    }
   ],
   "source": [
    "roc_auc_score(y_test, a), roc_auc_score(y_test, m)"
   ]
  },
  {
   "cell_type": "code",
   "execution_count": 39,
   "metadata": {},
   "outputs": [
    {
     "data": {
      "image/png": "[encoded data removed]",
      "text/plain": [
       "<matplotlib.figure.Figure at 0x12a174fd0>"
      ]
     },
     "metadata": {},
     "output_type": "display_data"
    }
   ],
   "source": [
    "plt.hist(base_learners[\"random_forest\"].predict_proba(X_test)[:, 1][y_test == 1], bins=20);"
   ]
  },
  {
   "cell_type": "code",
   "execution_count": 41,
   "metadata": {},
   "outputs": [
    {
     "data": {
      "text/plain": [
       "array([[1517,   92],\n",
       "       [ 258,   49]])"
      ]
     },
     "execution_count": 41,
     "metadata": {},
     "output_type": "execute_result"
    }
   ],
   "source": [
    "confusion_matrix(y_test, base_learners[\"random_forest\"].predict(X_test))"
   ]
  },
  {
   "cell_type": "code",
   "execution_count": 30,
   "metadata": {},
   "outputs": [
    {
     "name": "stdout",
     "output_type": "stream",
     "text": [
      "0.6852416071649091\n",
      "0.7039555594244913\n",
      "0.666343430580833\n"
     ]
    }
   ],
   "source": [
    "for _ in b.columns:\n",
    "    print(roc_auc_score(y_test, b[_]))"
   ]
  },
  {
   "cell_type": "code",
   "execution_count": 144,
   "metadata": {},
   "outputs": [
    {
     "data": {
      "image/png": "[encoded data removed]",
      "text/plain": [
       "<matplotlib.figure.Figure at 0x1d67f53be80>"
      ]
     },
     "metadata": {},
     "output_type": "display_data"
    },
    {
     "data": {
      "text/plain": [
       "<matplotlib.axes._subplots.AxesSubplot at 0x1d7eee32e10>"
      ]
     },
     "execution_count": 144,
     "metadata": {},
     "output_type": "execute_result"
    }
   ],
   "source": [
    "from mlens.visualization import corrmat\n",
    "corrmat(b.corr(), inflate=False)"
   ]
  },
  {
   "cell_type": "code",
   "execution_count": 145,
   "metadata": {},
   "outputs": [
    {
     "data": {
      "text/plain": [
       "array([0.08512942, 0.04266877, 0.04954358, 0.02149066, 0.30872143])"
      ]
     },
     "execution_count": 145,
     "metadata": {},
     "output_type": "execute_result"
    }
   ],
   "source": [
    "m[:5]"
   ]
  },
  {
   "cell_type": "code",
   "execution_count": 132,
   "metadata": {},
   "outputs": [
    {
     "data": {
      "text/html": [
       "<div>\n",
       "<style>\n",
       "    .dataframe thead tr:only-child th {\n",
       "        text-align: right;\n",
       "    }\n",
       "\n",
       "    .dataframe thead th {\n",
       "        text-align: left;\n",
       "    }\n",
       "\n",
       "    .dataframe tbody tr th {\n",
       "        vertical-align: top;\n",
       "    }\n",
       "</style>\n",
       "<table border=\"1\" class=\"dataframe\">\n",
       "  <thead>\n",
       "    <tr style=\"text-align: right;\">\n",
       "      <th></th>\n",
       "      <th>random_forest</th>\n",
       "      <th>logistic_regression</th>\n",
       "      <th>svc</th>\n",
       "    </tr>\n",
       "  </thead>\n",
       "  <tbody>\n",
       "    <tr>\n",
       "      <th>0</th>\n",
       "      <td>0.418</td>\n",
       "      <td>0.575923</td>\n",
       "      <td>0.476276</td>\n",
       "    </tr>\n",
       "    <tr>\n",
       "      <th>1</th>\n",
       "      <td>0.482</td>\n",
       "      <td>0.665925</td>\n",
       "      <td>0.670352</td>\n",
       "    </tr>\n",
       "    <tr>\n",
       "      <th>2</th>\n",
       "      <td>0.300</td>\n",
       "      <td>0.484278</td>\n",
       "      <td>0.424862</td>\n",
       "    </tr>\n",
       "    <tr>\n",
       "      <th>3</th>\n",
       "      <td>0.438</td>\n",
       "      <td>0.733526</td>\n",
       "      <td>0.771753</td>\n",
       "    </tr>\n",
       "    <tr>\n",
       "      <th>4</th>\n",
       "      <td>0.600</td>\n",
       "      <td>0.710266</td>\n",
       "      <td>0.645285</td>\n",
       "    </tr>\n",
       "  </tbody>\n",
       "</table>\n",
       "</div>"
      ],
      "text/plain": [
       "   random_forest  logistic_regression       svc\n",
       "0          0.418             0.575923  0.476276\n",
       "1          0.482             0.665925  0.670352\n",
       "2          0.300             0.484278  0.424862\n",
       "3          0.438             0.733526  0.771753\n",
       "4          0.600             0.710266  0.645285"
      ]
     },
     "execution_count": 132,
     "metadata": {},
     "output_type": "execute_result"
    }
   ],
   "source": [
    "b.head()"
   ]
  },
  {
   "cell_type": "code",
   "execution_count": 133,
   "metadata": {},
   "outputs": [
    {
     "data": {
      "text/plain": [
       "0    0.490066\n",
       "1    0.606092\n",
       "2    0.403047\n",
       "3    0.647760\n",
       "4    0.651850\n",
       "dtype: float64"
      ]
     },
     "execution_count": 133,
     "metadata": {},
     "output_type": "execute_result"
    }
   ],
   "source": [
    "a.head()"
   ]
  },
  {
   "cell_type": "code",
   "execution_count": 134,
   "metadata": {},
   "outputs": [
    {
     "data": {
      "text/plain": [
       "array([0, 0, 0, 1, 0], dtype=int64)"
      ]
     },
     "execution_count": 134,
     "metadata": {},
     "output_type": "execute_result"
    }
   ],
   "source": [
    "y_test[:5]"
   ]
  },
  {
   "cell_type": "code",
   "execution_count": 110,
   "metadata": {},
   "outputs": [
    {
     "data": {
      "text/plain": [
       "random_forest          0.772000\n",
       "logistic_regression    0.877577\n",
       "extra_tree             0.687000\n",
       "gradient_boosting      0.947752\n",
       "svc                    0.942471\n",
       "dtype: float64"
      ]
     },
     "execution_count": 110,
     "metadata": {},
     "output_type": "execute_result"
    }
   ],
   "source": [
    "np.max(b, axis=0)"
   ]
  },
  {
   "cell_type": "code",
   "execution_count": 146,
   "metadata": {},
   "outputs": [
    {
     "data": {
      "text/plain": [
       "0.9282017627688299"
      ]
     },
     "execution_count": 146,
     "metadata": {},
     "output_type": "execute_result"
    }
   ],
   "source": [
    "m.max()"
   ]
  },
  {
   "cell_type": "code",
   "execution_count": 117,
   "metadata": {},
   "outputs": [
    {
     "data": {
      "text/plain": [
       "random_forest          0.772000\n",
       "logistic_regression    0.629701\n",
       "extra_tree             0.653000\n",
       "gradient_boosting      0.861726\n",
       "svc                    0.769408\n",
       "Name: 732, dtype: float64"
      ]
     },
     "execution_count": 117,
     "metadata": {},
     "output_type": "execute_result"
    }
   ],
   "source": [
    "b.iloc[732, :]"
   ]
  },
  {
   "cell_type": "code",
   "execution_count": 147,
   "metadata": {},
   "outputs": [
    {
     "data": {
      "text/plain": [
       "(array([732], dtype=int64),)"
      ]
     },
     "execution_count": 147,
     "metadata": {},
     "output_type": "execute_result"
    }
   ],
   "source": [
    "np.where(m == m.max())"
   ]
  },
  {
   "cell_type": "code",
   "execution_count": 150,
   "metadata": {},
   "outputs": [
    {
     "data": {
      "text/plain": [
       "array([[1251,  358],\n",
       "       [ 159,  148]], dtype=int64)"
      ]
     },
     "execution_count": 150,
     "metadata": {},
     "output_type": "execute_result"
    }
   ],
   "source": [
    "confusion_matrix(y_test, (a >= 0.5) * 1)"
   ]
  },
  {
   "cell_type": "code",
   "execution_count": 149,
   "metadata": {},
   "outputs": [
    {
     "data": {
      "text/plain": [
       "array([[1596,   13],\n",
       "       [ 301,    6]], dtype=int64)"
      ]
     },
     "execution_count": 149,
     "metadata": {},
     "output_type": "execute_result"
    }
   ],
   "source": [
    "confusion_matrix(y_test, (m >= 0.5) * 1)"
   ]
  },
  {
   "cell_type": "code",
   "execution_count": 153,
   "metadata": {},
   "outputs": [
    {
     "data": {
      "text/plain": [
       "(0.8361169102296451, 0.7301670146137788)"
      ]
     },
     "execution_count": 153,
     "metadata": {},
     "output_type": "execute_result"
    }
   ],
   "source": [
    "accuracy_score(y_test, (m >= 0.5) * 1), accuracy_score(y_test, (a >= 0.5) * 1)"
   ]
  },
  {
   "cell_type": "code",
   "execution_count": 154,
   "metadata": {},
   "outputs": [
    {
     "data": {
      "text/plain": [
       "<matplotlib.axes._subplots.AxesSubplot at 0x1d7f005fc88>"
      ]
     },
     "execution_count": 154,
     "metadata": {},
     "output_type": "execute_result"
    },
    {
     "data": {
      "image/png": "[encoded data removed]",
      "text/plain": [
       "<matplotlib.figure.Figure at 0x1d7f005f5f8>"
      ]
     },
     "metadata": {},
     "output_type": "display_data"
    }
   ],
   "source": [
    "sns.countplot(y_test)"
   ]
  },
  {
   "cell_type": "code",
   "execution_count": 94,
   "metadata": {},
   "outputs": [
    {
     "name": "stdout",
     "output_type": "stream",
     "text": [
      "\n",
      "Fitting 2 layers\n",
      "Processing layer-1             done | 00:16:44\n",
      "Processing layer-2             done | 00:00:15\n",
      "Fit complete                        | 00:17:03\n",
      "\n",
      "Predicting 2 layers\n",
      "Processing layer-1             done | 00:01:25\n",
      "Processing layer-2             done | 00:00:02\n",
      "Predict complete                    | 00:01:50\n",
      "\n",
      "Super Learner ROC-AUC score: 0.488\n"
     ]
    }
   ],
   "source": [
    "from mlens.ensemble import SuperLearner\n",
    "\n",
    "# Instantiate the ensemble with 10 folds\n",
    "sl = SuperLearner(\n",
    "    folds=10,\n",
    "    random_state=123,\n",
    "    verbose=2,\n",
    "    backend=\"multiprocessing\"\n",
    ")\n",
    "\n",
    "# Add the base learners and the meta learner\n",
    "sl.add(list(base_learners.values()), proba=True) \n",
    "sl.add_meta(meta_learner, proba=True)\n",
    "\n",
    "# Train the ensemble\n",
    "sl.fit(X_train_u, y_train_u)\n",
    "\n",
    "# Predict the test set\n",
    "p_sl = sl.predict_proba(X_test)\n",
    "\n",
    "print(\"\\nSuper Learner ROC-AUC score: %.3f\" % roc_auc_score(y_test, p_sl[:, 1]))"
   ]
  },
  {
   "cell_type": "code",
   "execution_count": 24,
   "metadata": {},
   "outputs": [
    {
     "data": {
      "text/plain": [
       "0.6351336031241206"
      ]
     },
     "execution_count": 24,
     "metadata": {},
     "output_type": "execute_result"
    }
   ],
   "source": [
    "xgb_cl = xgb.XGBClassifier(n_jobs=4)\n",
    "xgb_cl.fit(X_train_d, y_train_d)\n",
    "roc_auc_score(y_test, xgb_cl.predict(X_test))"
   ]
  },
  {
   "cell_type": "code",
   "execution_count": 16,
   "metadata": {},
   "outputs": [],
   "source": [
    "# Create DMatrix\n",
    "DMatrix = xgb.DMatrix(data=X_train_u, label=y_train_u)\n",
    "\n",
    "# Run cv\n",
    "params = {\"objective\": \"binary:logistic\", \"max_depth\": 3}\n",
    "cv_results = xgb.cv(dtrain=DMatrix, params=params, nfold=5, num_boost_round=100, stratified=True, metrics=\"auc\")"
   ]
  },
  {
   "cell_type": "code",
   "execution_count": 17,
   "metadata": {},
   "outputs": [
    {
     "data": {
      "text/html": [
       "<div>\n",
       "<style>\n",
       "    .dataframe thead tr:only-child th {\n",
       "        text-align: right;\n",
       "    }\n",
       "\n",
       "    .dataframe thead th {\n",
       "        text-align: left;\n",
       "    }\n",
       "\n",
       "    .dataframe tbody tr th {\n",
       "        vertical-align: top;\n",
       "    }\n",
       "</style>\n",
       "<table border=\"1\" class=\"dataframe\">\n",
       "  <thead>\n",
       "    <tr style=\"text-align: right;\">\n",
       "      <th></th>\n",
       "      <th>test-auc-mean</th>\n",
       "      <th>test-auc-std</th>\n",
       "      <th>train-auc-mean</th>\n",
       "      <th>train-auc-std</th>\n",
       "    </tr>\n",
       "  </thead>\n",
       "  <tbody>\n",
       "    <tr>\n",
       "      <th>0</th>\n",
       "      <td>0.640197</td>\n",
       "      <td>0.009882</td>\n",
       "      <td>0.644413</td>\n",
       "      <td>0.001967</td>\n",
       "    </tr>\n",
       "    <tr>\n",
       "      <th>1</th>\n",
       "      <td>0.660559</td>\n",
       "      <td>0.007037</td>\n",
       "      <td>0.667695</td>\n",
       "      <td>0.002831</td>\n",
       "    </tr>\n",
       "    <tr>\n",
       "      <th>2</th>\n",
       "      <td>0.664494</td>\n",
       "      <td>0.006079</td>\n",
       "      <td>0.674007</td>\n",
       "      <td>0.002251</td>\n",
       "    </tr>\n",
       "    <tr>\n",
       "      <th>3</th>\n",
       "      <td>0.669810</td>\n",
       "      <td>0.005190</td>\n",
       "      <td>0.682914</td>\n",
       "      <td>0.005102</td>\n",
       "    </tr>\n",
       "    <tr>\n",
       "      <th>4</th>\n",
       "      <td>0.675974</td>\n",
       "      <td>0.004584</td>\n",
       "      <td>0.690131</td>\n",
       "      <td>0.003859</td>\n",
       "    </tr>\n",
       "    <tr>\n",
       "      <th>5</th>\n",
       "      <td>0.680721</td>\n",
       "      <td>0.006498</td>\n",
       "      <td>0.695508</td>\n",
       "      <td>0.003315</td>\n",
       "    </tr>\n",
       "    <tr>\n",
       "      <th>6</th>\n",
       "      <td>0.685933</td>\n",
       "      <td>0.007071</td>\n",
       "      <td>0.701589</td>\n",
       "      <td>0.002509</td>\n",
       "    </tr>\n",
       "    <tr>\n",
       "      <th>7</th>\n",
       "      <td>0.690604</td>\n",
       "      <td>0.006501</td>\n",
       "      <td>0.708339</td>\n",
       "      <td>0.002703</td>\n",
       "    </tr>\n",
       "    <tr>\n",
       "      <th>8</th>\n",
       "      <td>0.694528</td>\n",
       "      <td>0.007776</td>\n",
       "      <td>0.712615</td>\n",
       "      <td>0.001880</td>\n",
       "    </tr>\n",
       "    <tr>\n",
       "      <th>9</th>\n",
       "      <td>0.697302</td>\n",
       "      <td>0.008066</td>\n",
       "      <td>0.718544</td>\n",
       "      <td>0.000630</td>\n",
       "    </tr>\n",
       "    <tr>\n",
       "      <th>10</th>\n",
       "      <td>0.701952</td>\n",
       "      <td>0.007669</td>\n",
       "      <td>0.724112</td>\n",
       "      <td>0.001231</td>\n",
       "    </tr>\n",
       "    <tr>\n",
       "      <th>11</th>\n",
       "      <td>0.706551</td>\n",
       "      <td>0.007511</td>\n",
       "      <td>0.728609</td>\n",
       "      <td>0.001788</td>\n",
       "    </tr>\n",
       "    <tr>\n",
       "      <th>12</th>\n",
       "      <td>0.708789</td>\n",
       "      <td>0.007207</td>\n",
       "      <td>0.731912</td>\n",
       "      <td>0.001814</td>\n",
       "    </tr>\n",
       "    <tr>\n",
       "      <th>13</th>\n",
       "      <td>0.711411</td>\n",
       "      <td>0.007244</td>\n",
       "      <td>0.735386</td>\n",
       "      <td>0.002083</td>\n",
       "    </tr>\n",
       "    <tr>\n",
       "      <th>14</th>\n",
       "      <td>0.714502</td>\n",
       "      <td>0.007090</td>\n",
       "      <td>0.738365</td>\n",
       "      <td>0.002442</td>\n",
       "    </tr>\n",
       "    <tr>\n",
       "      <th>15</th>\n",
       "      <td>0.717670</td>\n",
       "      <td>0.008161</td>\n",
       "      <td>0.742865</td>\n",
       "      <td>0.002299</td>\n",
       "    </tr>\n",
       "    <tr>\n",
       "      <th>16</th>\n",
       "      <td>0.720814</td>\n",
       "      <td>0.008081</td>\n",
       "      <td>0.746201</td>\n",
       "      <td>0.001773</td>\n",
       "    </tr>\n",
       "    <tr>\n",
       "      <th>17</th>\n",
       "      <td>0.723727</td>\n",
       "      <td>0.008333</td>\n",
       "      <td>0.749247</td>\n",
       "      <td>0.002474</td>\n",
       "    </tr>\n",
       "    <tr>\n",
       "      <th>18</th>\n",
       "      <td>0.724885</td>\n",
       "      <td>0.008409</td>\n",
       "      <td>0.751618</td>\n",
       "      <td>0.002618</td>\n",
       "    </tr>\n",
       "    <tr>\n",
       "      <th>19</th>\n",
       "      <td>0.726478</td>\n",
       "      <td>0.007455</td>\n",
       "      <td>0.755300</td>\n",
       "      <td>0.002150</td>\n",
       "    </tr>\n",
       "    <tr>\n",
       "      <th>20</th>\n",
       "      <td>0.727918</td>\n",
       "      <td>0.007647</td>\n",
       "      <td>0.757181</td>\n",
       "      <td>0.002232</td>\n",
       "    </tr>\n",
       "    <tr>\n",
       "      <th>21</th>\n",
       "      <td>0.729709</td>\n",
       "      <td>0.007312</td>\n",
       "      <td>0.760203</td>\n",
       "      <td>0.002802</td>\n",
       "    </tr>\n",
       "    <tr>\n",
       "      <th>22</th>\n",
       "      <td>0.731971</td>\n",
       "      <td>0.007605</td>\n",
       "      <td>0.763107</td>\n",
       "      <td>0.002449</td>\n",
       "    </tr>\n",
       "    <tr>\n",
       "      <th>23</th>\n",
       "      <td>0.733956</td>\n",
       "      <td>0.007480</td>\n",
       "      <td>0.766095</td>\n",
       "      <td>0.003014</td>\n",
       "    </tr>\n",
       "    <tr>\n",
       "      <th>24</th>\n",
       "      <td>0.735560</td>\n",
       "      <td>0.007963</td>\n",
       "      <td>0.768987</td>\n",
       "      <td>0.003163</td>\n",
       "    </tr>\n",
       "    <tr>\n",
       "      <th>25</th>\n",
       "      <td>0.736826</td>\n",
       "      <td>0.007056</td>\n",
       "      <td>0.770650</td>\n",
       "      <td>0.003050</td>\n",
       "    </tr>\n",
       "    <tr>\n",
       "      <th>26</th>\n",
       "      <td>0.737968</td>\n",
       "      <td>0.006281</td>\n",
       "      <td>0.772287</td>\n",
       "      <td>0.002583</td>\n",
       "    </tr>\n",
       "    <tr>\n",
       "      <th>27</th>\n",
       "      <td>0.739299</td>\n",
       "      <td>0.006395</td>\n",
       "      <td>0.774277</td>\n",
       "      <td>0.001527</td>\n",
       "    </tr>\n",
       "    <tr>\n",
       "      <th>28</th>\n",
       "      <td>0.740364</td>\n",
       "      <td>0.006804</td>\n",
       "      <td>0.776107</td>\n",
       "      <td>0.002228</td>\n",
       "    </tr>\n",
       "    <tr>\n",
       "      <th>29</th>\n",
       "      <td>0.743216</td>\n",
       "      <td>0.008295</td>\n",
       "      <td>0.779419</td>\n",
       "      <td>0.002844</td>\n",
       "    </tr>\n",
       "    <tr>\n",
       "      <th>...</th>\n",
       "      <td>...</td>\n",
       "      <td>...</td>\n",
       "      <td>...</td>\n",
       "      <td>...</td>\n",
       "    </tr>\n",
       "    <tr>\n",
       "      <th>70</th>\n",
       "      <td>0.790650</td>\n",
       "      <td>0.004640</td>\n",
       "      <td>0.847027</td>\n",
       "      <td>0.003535</td>\n",
       "    </tr>\n",
       "    <tr>\n",
       "      <th>71</th>\n",
       "      <td>0.792058</td>\n",
       "      <td>0.003942</td>\n",
       "      <td>0.848243</td>\n",
       "      <td>0.003485</td>\n",
       "    </tr>\n",
       "    <tr>\n",
       "      <th>72</th>\n",
       "      <td>0.793010</td>\n",
       "      <td>0.003957</td>\n",
       "      <td>0.849509</td>\n",
       "      <td>0.003950</td>\n",
       "    </tr>\n",
       "    <tr>\n",
       "      <th>73</th>\n",
       "      <td>0.793474</td>\n",
       "      <td>0.003553</td>\n",
       "      <td>0.850728</td>\n",
       "      <td>0.004377</td>\n",
       "    </tr>\n",
       "    <tr>\n",
       "      <th>74</th>\n",
       "      <td>0.794635</td>\n",
       "      <td>0.004412</td>\n",
       "      <td>0.852245</td>\n",
       "      <td>0.004557</td>\n",
       "    </tr>\n",
       "    <tr>\n",
       "      <th>75</th>\n",
       "      <td>0.795681</td>\n",
       "      <td>0.004247</td>\n",
       "      <td>0.853618</td>\n",
       "      <td>0.004039</td>\n",
       "    </tr>\n",
       "    <tr>\n",
       "      <th>76</th>\n",
       "      <td>0.796447</td>\n",
       "      <td>0.004133</td>\n",
       "      <td>0.854460</td>\n",
       "      <td>0.004013</td>\n",
       "    </tr>\n",
       "    <tr>\n",
       "      <th>77</th>\n",
       "      <td>0.797049</td>\n",
       "      <td>0.004443</td>\n",
       "      <td>0.855324</td>\n",
       "      <td>0.004646</td>\n",
       "    </tr>\n",
       "    <tr>\n",
       "      <th>78</th>\n",
       "      <td>0.797972</td>\n",
       "      <td>0.004420</td>\n",
       "      <td>0.856041</td>\n",
       "      <td>0.004426</td>\n",
       "    </tr>\n",
       "    <tr>\n",
       "      <th>79</th>\n",
       "      <td>0.798681</td>\n",
       "      <td>0.004458</td>\n",
       "      <td>0.857041</td>\n",
       "      <td>0.005345</td>\n",
       "    </tr>\n",
       "    <tr>\n",
       "      <th>80</th>\n",
       "      <td>0.799812</td>\n",
       "      <td>0.003892</td>\n",
       "      <td>0.858111</td>\n",
       "      <td>0.004868</td>\n",
       "    </tr>\n",
       "    <tr>\n",
       "      <th>81</th>\n",
       "      <td>0.800668</td>\n",
       "      <td>0.004164</td>\n",
       "      <td>0.859216</td>\n",
       "      <td>0.005220</td>\n",
       "    </tr>\n",
       "    <tr>\n",
       "      <th>82</th>\n",
       "      <td>0.801768</td>\n",
       "      <td>0.004355</td>\n",
       "      <td>0.860440</td>\n",
       "      <td>0.005037</td>\n",
       "    </tr>\n",
       "    <tr>\n",
       "      <th>83</th>\n",
       "      <td>0.802402</td>\n",
       "      <td>0.004399</td>\n",
       "      <td>0.861558</td>\n",
       "      <td>0.005377</td>\n",
       "    </tr>\n",
       "    <tr>\n",
       "      <th>84</th>\n",
       "      <td>0.803413</td>\n",
       "      <td>0.005076</td>\n",
       "      <td>0.862742</td>\n",
       "      <td>0.005247</td>\n",
       "    </tr>\n",
       "    <tr>\n",
       "      <th>85</th>\n",
       "      <td>0.804298</td>\n",
       "      <td>0.005338</td>\n",
       "      <td>0.863555</td>\n",
       "      <td>0.005473</td>\n",
       "    </tr>\n",
       "    <tr>\n",
       "      <th>86</th>\n",
       "      <td>0.805146</td>\n",
       "      <td>0.005138</td>\n",
       "      <td>0.865238</td>\n",
       "      <td>0.005860</td>\n",
       "    </tr>\n",
       "    <tr>\n",
       "      <th>87</th>\n",
       "      <td>0.806385</td>\n",
       "      <td>0.004840</td>\n",
       "      <td>0.866232</td>\n",
       "      <td>0.005579</td>\n",
       "    </tr>\n",
       "    <tr>\n",
       "      <th>88</th>\n",
       "      <td>0.807020</td>\n",
       "      <td>0.004883</td>\n",
       "      <td>0.867295</td>\n",
       "      <td>0.005622</td>\n",
       "    </tr>\n",
       "    <tr>\n",
       "      <th>89</th>\n",
       "      <td>0.807305</td>\n",
       "      <td>0.004737</td>\n",
       "      <td>0.868035</td>\n",
       "      <td>0.005308</td>\n",
       "    </tr>\n",
       "    <tr>\n",
       "      <th>90</th>\n",
       "      <td>0.807691</td>\n",
       "      <td>0.004230</td>\n",
       "      <td>0.868954</td>\n",
       "      <td>0.005064</td>\n",
       "    </tr>\n",
       "    <tr>\n",
       "      <th>91</th>\n",
       "      <td>0.808692</td>\n",
       "      <td>0.004047</td>\n",
       "      <td>0.870285</td>\n",
       "      <td>0.005192</td>\n",
       "    </tr>\n",
       "    <tr>\n",
       "      <th>92</th>\n",
       "      <td>0.809619</td>\n",
       "      <td>0.003633</td>\n",
       "      <td>0.872037</td>\n",
       "      <td>0.005049</td>\n",
       "    </tr>\n",
       "    <tr>\n",
       "      <th>93</th>\n",
       "      <td>0.810612</td>\n",
       "      <td>0.003483</td>\n",
       "      <td>0.873166</td>\n",
       "      <td>0.004994</td>\n",
       "    </tr>\n",
       "    <tr>\n",
       "      <th>94</th>\n",
       "      <td>0.811586</td>\n",
       "      <td>0.002709</td>\n",
       "      <td>0.873989</td>\n",
       "      <td>0.005177</td>\n",
       "    </tr>\n",
       "    <tr>\n",
       "      <th>95</th>\n",
       "      <td>0.812345</td>\n",
       "      <td>0.002501</td>\n",
       "      <td>0.874992</td>\n",
       "      <td>0.005230</td>\n",
       "    </tr>\n",
       "    <tr>\n",
       "      <th>96</th>\n",
       "      <td>0.813097</td>\n",
       "      <td>0.002551</td>\n",
       "      <td>0.875697</td>\n",
       "      <td>0.005290</td>\n",
       "    </tr>\n",
       "    <tr>\n",
       "      <th>97</th>\n",
       "      <td>0.814109</td>\n",
       "      <td>0.002649</td>\n",
       "      <td>0.876788</td>\n",
       "      <td>0.004775</td>\n",
       "    </tr>\n",
       "    <tr>\n",
       "      <th>98</th>\n",
       "      <td>0.814867</td>\n",
       "      <td>0.002992</td>\n",
       "      <td>0.877655</td>\n",
       "      <td>0.004743</td>\n",
       "    </tr>\n",
       "    <tr>\n",
       "      <th>99</th>\n",
       "      <td>0.815339</td>\n",
       "      <td>0.003009</td>\n",
       "      <td>0.878815</td>\n",
       "      <td>0.004406</td>\n",
       "    </tr>\n",
       "  </tbody>\n",
       "</table>\n",
       "<p>100 rows × 4 columns</p>\n",
       "</div>"
      ],
      "text/plain": [
       "    test-auc-mean  test-auc-std  train-auc-mean  train-auc-std\n",
       "0        0.640197      0.009882        0.644413       0.001967\n",
       "1        0.660559      0.007037        0.667695       0.002831\n",
       "2        0.664494      0.006079        0.674007       0.002251\n",
       "3        0.669810      0.005190        0.682914       0.005102\n",
       "4        0.675974      0.004584        0.690131       0.003859\n",
       "5        0.680721      0.006498        0.695508       0.003315\n",
       "6        0.685933      0.007071        0.701589       0.002509\n",
       "7        0.690604      0.006501        0.708339       0.002703\n",
       "8        0.694528      0.007776        0.712615       0.001880\n",
       "9        0.697302      0.008066        0.718544       0.000630\n",
       "10       0.701952      0.007669        0.724112       0.001231\n",
       "11       0.706551      0.007511        0.728609       0.001788\n",
       "12       0.708789      0.007207        0.731912       0.001814\n",
       "13       0.711411      0.007244        0.735386       0.002083\n",
       "14       0.714502      0.007090        0.738365       0.002442\n",
       "15       0.717670      0.008161        0.742865       0.002299\n",
       "16       0.720814      0.008081        0.746201       0.001773\n",
       "17       0.723727      0.008333        0.749247       0.002474\n",
       "18       0.724885      0.008409        0.751618       0.002618\n",
       "19       0.726478      0.007455        0.755300       0.002150\n",
       "20       0.727918      0.007647        0.757181       0.002232\n",
       "21       0.729709      0.007312        0.760203       0.002802\n",
       "22       0.731971      0.007605        0.763107       0.002449\n",
       "23       0.733956      0.007480        0.766095       0.003014\n",
       "24       0.735560      0.007963        0.768987       0.003163\n",
       "25       0.736826      0.007056        0.770650       0.003050\n",
       "26       0.737968      0.006281        0.772287       0.002583\n",
       "27       0.739299      0.006395        0.774277       0.001527\n",
       "28       0.740364      0.006804        0.776107       0.002228\n",
       "29       0.743216      0.008295        0.779419       0.002844\n",
       "..            ...           ...             ...            ...\n",
       "70       0.790650      0.004640        0.847027       0.003535\n",
       "71       0.792058      0.003942        0.848243       0.003485\n",
       "72       0.793010      0.003957        0.849509       0.003950\n",
       "73       0.793474      0.003553        0.850728       0.004377\n",
       "74       0.794635      0.004412        0.852245       0.004557\n",
       "75       0.795681      0.004247        0.853618       0.004039\n",
       "76       0.796447      0.004133        0.854460       0.004013\n",
       "77       0.797049      0.004443        0.855324       0.004646\n",
       "78       0.797972      0.004420        0.856041       0.004426\n",
       "79       0.798681      0.004458        0.857041       0.005345\n",
       "80       0.799812      0.003892        0.858111       0.004868\n",
       "81       0.800668      0.004164        0.859216       0.005220\n",
       "82       0.801768      0.004355        0.860440       0.005037\n",
       "83       0.802402      0.004399        0.861558       0.005377\n",
       "84       0.803413      0.005076        0.862742       0.005247\n",
       "85       0.804298      0.005338        0.863555       0.005473\n",
       "86       0.805146      0.005138        0.865238       0.005860\n",
       "87       0.806385      0.004840        0.866232       0.005579\n",
       "88       0.807020      0.004883        0.867295       0.005622\n",
       "89       0.807305      0.004737        0.868035       0.005308\n",
       "90       0.807691      0.004230        0.868954       0.005064\n",
       "91       0.808692      0.004047        0.870285       0.005192\n",
       "92       0.809619      0.003633        0.872037       0.005049\n",
       "93       0.810612      0.003483        0.873166       0.004994\n",
       "94       0.811586      0.002709        0.873989       0.005177\n",
       "95       0.812345      0.002501        0.874992       0.005230\n",
       "96       0.813097      0.002551        0.875697       0.005290\n",
       "97       0.814109      0.002649        0.876788       0.004775\n",
       "98       0.814867      0.002992        0.877655       0.004743\n",
       "99       0.815339      0.003009        0.878815       0.004406\n",
       "\n",
       "[100 rows x 4 columns]"
      ]
     },
     "execution_count": 17,
     "metadata": {},
     "output_type": "execute_result"
    }
   ],
   "source": [
    "cv_results"
   ]
  },
  {
   "cell_type": "code",
   "execution_count": null,
   "metadata": {},
   "outputs": [],
   "source": [
    "xgb.sklearn."
   ]
  },
  {
   "cell_type": "markdown",
   "metadata": {},
   "source": [
    " <h2 style=\"font-family: Georgia; font-size:2em;color:purple; font-style:bold\">\n",
    "Conclusion</h2><br>"
   ]
  }
 ],
 "metadata": {
  "kernelspec": {
   "display_name": "Python 3",
   "language": "python",
   "name": "python3"
  },
  "language_info": {
   "codemirror_mode": {
    "name": "ipython",
    "version": 3
   },
   "file_extension": ".py",
   "mimetype": "text/x-python",
   "name": "python",
   "nbconvert_exporter": "python",
   "pygments_lexer": "ipython3",
   "version": "3.6.4"
  }
 },
 "nbformat": 4,
 "nbformat_minor": 2
}
